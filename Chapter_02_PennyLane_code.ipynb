{
  "cells": [
    {
      "cell_type": "markdown",
      "metadata": {
        "id": "view-in-github",
        "colab_type": "text"
      },
      "source": [
        "<a href=\"https://colab.research.google.com/github/Viny2030/pennylane/blob/master/Chapter_02_PennyLane_code.ipynb\" target=\"_parent\"><img src=\"https://colab.research.google.com/assets/colab-badge.svg\" alt=\"Open In Colab\"/></a>"
      ]
    },
    {
      "cell_type": "markdown",
      "metadata": {
        "id": "C6X9I0Mjdnpy"
      },
      "source": [
        "# CHAPTER 2 - The Tools of the Trade in Quantum Computing - PennyLane Code"
      ]
    },
    {
      "cell_type": "markdown",
      "metadata": {
        "id": "J_L0y3qfd1nW"
      },
      "source": [
        "*Note*: You may skip the following three cells if you have alredy installed the right versions of all the libraries mentioned in *Appendix D*. This will likely NOT be the case if you are running this notebook on a cloud service such as Google Colab.\n",
        "\n"
      ]
    },
    {
      "cell_type": "code",
      "execution_count": 1,
      "metadata": {
        "id": "IL8LawPgdl8Q",
        "colab": {
          "base_uri": "https://localhost:8080/"
        },
        "outputId": "a51d4425-a38a-46d8-c7bb-569f5e91818f"
      },
      "outputs": [
        {
          "output_type": "stream",
          "name": "stdout",
          "text": [
            "Collecting pennylane==0.26\n",
            "  Downloading PennyLane-0.26.0-py3-none-any.whl.metadata (8.3 kB)\n",
            "Requirement already satisfied: numpy in /usr/local/lib/python3.12/dist-packages (from pennylane==0.26) (2.0.2)\n",
            "Requirement already satisfied: scipy in /usr/local/lib/python3.12/dist-packages (from pennylane==0.26) (1.16.2)\n",
            "Requirement already satisfied: networkx in /usr/local/lib/python3.12/dist-packages (from pennylane==0.26) (3.5)\n",
            "Collecting retworkx (from pennylane==0.26)\n",
            "  Downloading retworkx-0.17.1-py3-none-any.whl.metadata (10 kB)\n",
            "Requirement already satisfied: autograd in /usr/local/lib/python3.12/dist-packages (from pennylane==0.26) (1.8.0)\n",
            "Requirement already satisfied: toml in /usr/local/lib/python3.12/dist-packages (from pennylane==0.26) (0.10.2)\n",
            "Collecting appdirs (from pennylane==0.26)\n",
            "  Downloading appdirs-1.4.4-py2.py3-none-any.whl.metadata (9.0 kB)\n",
            "Requirement already satisfied: semantic-version>=2.7 in /usr/local/lib/python3.12/dist-packages (from pennylane==0.26) (2.10.0)\n",
            "Collecting autoray>=0.3.1 (from pennylane==0.26)\n",
            "  Downloading autoray-0.8.0-py3-none-any.whl.metadata (6.1 kB)\n",
            "Requirement already satisfied: cachetools in /usr/local/lib/python3.12/dist-packages (from pennylane==0.26) (5.5.2)\n",
            "Collecting pennylane-lightning>=0.26 (from pennylane==0.26)\n",
            "  Downloading pennylane_lightning-0.42.0-cp312-cp312-manylinux_2_28_x86_64.whl.metadata (11 kB)\n",
            "INFO: pip is looking at multiple versions of pennylane-lightning to determine which version is compatible with other requirements. This could take a while.\n",
            "  Downloading pennylane_lightning-0.41.1-cp312-cp312-manylinux_2_28_x86_64.whl.metadata (12 kB)\n",
            "  Downloading pennylane_lightning-0.41.0-cp312-cp312-manylinux_2_28_x86_64.whl.metadata (28 kB)\n",
            "  Downloading PennyLane_Lightning-0.40.0-cp312-cp312-manylinux_2_28_x86_64.whl.metadata (27 kB)\n",
            "  Downloading PennyLane_Lightning-0.39.0-cp312-cp312-manylinux_2_28_x86_64.whl.metadata (26 kB)\n",
            "  Downloading PennyLane_Lightning-0.38.0-cp312-cp312-manylinux_2_28_x86_64.whl.metadata (26 kB)\n",
            "  Downloading PennyLane_Lightning-0.37.0-cp312-cp312-manylinux_2_28_x86_64.whl.metadata (23 kB)\n",
            "  Downloading PennyLane_Lightning-0.36.0-cp312-cp312-manylinux_2_17_x86_64.manylinux2014_x86_64.whl.metadata (21 kB)\n",
            "INFO: pip is still looking at multiple versions of pennylane-lightning to determine which version is compatible with other requirements. This could take a while.\n",
            "  Downloading PennyLane_Lightning-0.35.1-cp312-cp312-manylinux_2_17_x86_64.manylinux2014_x86_64.whl.metadata (22 kB)\n",
            "  Downloading PennyLane_Lightning-0.35.0-cp312-cp312-manylinux_2_17_x86_64.manylinux2014_x86_64.whl.metadata (22 kB)\n",
            "  Downloading PennyLane_Lightning-0.34.0-cp312-cp312-manylinux_2_17_x86_64.manylinux2014_x86_64.whl.metadata (21 kB)\n",
            "  Downloading PennyLane_Lightning-0.33.1-py3-none-any.whl.metadata (21 kB)\n",
            "  Downloading PennyLane_Lightning-0.33.0-py3-none-any.whl.metadata (21 kB)\n",
            "INFO: This is taking longer than usual. You might need to provide the dependency resolver with stricter constraints to reduce runtime. See https://pip.pypa.io/warnings/backtracking for guidance. If you want to abort this run, press Ctrl + C.\n",
            "  Downloading PennyLane_Lightning-0.32.0-py3-none-any.whl.metadata (14 kB)\n",
            "  Downloading PennyLane_Lightning-0.31.0-py3-none-any.whl.metadata (10 kB)\n",
            "  Downloading PennyLane_Lightning-0.30.0-py3-none-any.whl.metadata (10 kB)\n",
            "  Downloading PennyLane_Lightning-0.29.0-py3-none-any.whl.metadata (10 kB)\n",
            "  Downloading PennyLane_Lightning-0.28.2-py3-none-any.whl.metadata (9.4 kB)\n",
            "Collecting ninja (from pennylane-lightning>=0.26->pennylane==0.26)\n",
            "  Downloading ninja-1.13.0-py3-none-manylinux2014_x86_64.manylinux_2_17_x86_64.whl.metadata (5.1 kB)\n",
            "Collecting pennylane-lightning>=0.26 (from pennylane==0.26)\n",
            "  Downloading PennyLane_Lightning-0.28.1-py3-none-any.whl.metadata (9.4 kB)\n",
            "  Downloading PennyLane_Lightning-0.28.0-py3-none-any.whl.metadata (9.4 kB)\n",
            "Collecting rustworkx (from retworkx->pennylane==0.26)\n",
            "  Downloading rustworkx-0.17.1-cp39-abi3-manylinux_2_17_x86_64.manylinux2014_x86_64.whl.metadata (10 kB)\n",
            "Downloading PennyLane-0.26.0-py3-none-any.whl (1.0 MB)\n",
            "\u001b[2K   \u001b[90m━━━━━━━━━━━━━━━━━━━━━━━━━━━━━━━━━━━━━━━━\u001b[0m \u001b[32m1.0/1.0 MB\u001b[0m \u001b[31m23.1 MB/s\u001b[0m eta \u001b[36m0:00:00\u001b[0m\n",
            "\u001b[?25hDownloading autoray-0.8.0-py3-none-any.whl (934 kB)\n",
            "\u001b[2K   \u001b[90m━━━━━━━━━━━━━━━━━━━━━━━━━━━━━━━━━━━━━━━━\u001b[0m \u001b[32m934.3/934.3 kB\u001b[0m \u001b[31m48.9 MB/s\u001b[0m eta \u001b[36m0:00:00\u001b[0m\n",
            "\u001b[?25hDownloading PennyLane_Lightning-0.28.0-py3-none-any.whl (227 kB)\n",
            "\u001b[2K   \u001b[90m━━━━━━━━━━━━━━━━━━━━━━━━━━━━━━━━━━━━━━━━\u001b[0m \u001b[32m227.2/227.2 kB\u001b[0m \u001b[31m14.5 MB/s\u001b[0m eta \u001b[36m0:00:00\u001b[0m\n",
            "\u001b[?25hDownloading appdirs-1.4.4-py2.py3-none-any.whl (9.6 kB)\n",
            "Downloading retworkx-0.17.1-py3-none-any.whl (6.7 kB)\n",
            "Downloading ninja-1.13.0-py3-none-manylinux2014_x86_64.manylinux_2_17_x86_64.whl (180 kB)\n",
            "\u001b[2K   \u001b[90m━━━━━━━━━━━━━━━━━━━━━━━━━━━━━━━━━━━━━━━━\u001b[0m \u001b[32m180.7/180.7 kB\u001b[0m \u001b[31m13.9 MB/s\u001b[0m eta \u001b[36m0:00:00\u001b[0m\n",
            "\u001b[?25hDownloading rustworkx-0.17.1-cp39-abi3-manylinux_2_17_x86_64.manylinux2014_x86_64.whl (2.2 MB)\n",
            "\u001b[2K   \u001b[90m━━━━━━━━━━━━━━━━━━━━━━━━━━━━━━━━━━━━━━━━\u001b[0m \u001b[32m2.2/2.2 MB\u001b[0m \u001b[31m61.4 MB/s\u001b[0m eta \u001b[36m0:00:00\u001b[0m\n",
            "\u001b[?25hInstalling collected packages: appdirs, rustworkx, ninja, autoray, retworkx, pennylane-lightning, pennylane\n",
            "Successfully installed appdirs-1.4.4 autoray-0.8.0 ninja-1.13.0 pennylane-0.26.0 pennylane-lightning-0.28.0 retworkx-0.17.1 rustworkx-0.17.1\n"
          ]
        }
      ],
      "source": [
        "pip install pennylane==0.26"
      ]
    },
    {
      "cell_type": "code",
      "execution_count": 2,
      "metadata": {
        "id": "iJn9StQOScS4",
        "colab": {
          "base_uri": "https://localhost:8080/"
        },
        "outputId": "4950b417-5a35-424e-dd44-37064ccadf10"
      },
      "outputs": [
        {
          "output_type": "stream",
          "name": "stdout",
          "text": [
            "Collecting qiskit==0.39.2\n",
            "  Downloading qiskit-0.39.2.tar.gz (13 kB)\n",
            "  Preparing metadata (setup.py) ... \u001b[?25l\u001b[?25hdone\n",
            "Collecting qiskit-terra==0.22.2 (from qiskit==0.39.2)\n",
            "  Downloading qiskit-terra-0.22.2.tar.gz (4.6 MB)\n",
            "\u001b[2K     \u001b[90m━━━━━━━━━━━━━━━━━━━━━━━━━━━━━━━━━━━━━━━━\u001b[0m \u001b[32m4.6/4.6 MB\u001b[0m \u001b[31m7.9 MB/s\u001b[0m eta \u001b[36m0:00:00\u001b[0m\n",
            "\u001b[?25h  Installing build dependencies ... \u001b[?25l\u001b[?25hdone\n",
            "  Getting requirements to build wheel ... \u001b[?25l\u001b[?25hdone\n",
            "  Preparing metadata (pyproject.toml) ... \u001b[?25l\u001b[?25hdone\n",
            "Collecting qiskit-aer==0.11.1 (from qiskit==0.39.2)\n",
            "  Downloading qiskit-aer-0.11.1.tar.gz (6.5 MB)\n",
            "\u001b[2K     \u001b[90m━━━━━━━━━━━━━━━━━━━━━━━━━━━━━━━━━━━━━━━━\u001b[0m \u001b[32m6.5/6.5 MB\u001b[0m \u001b[31m101.0 MB/s\u001b[0m eta \u001b[36m0:00:00\u001b[0m\n",
            "\u001b[?25h  Installing build dependencies ... \u001b[?25l\u001b[?25hdone\n",
            "  \u001b[1;31merror\u001b[0m: \u001b[1msubprocess-exited-with-error\u001b[0m\n",
            "  \n",
            "  \u001b[31m×\u001b[0m \u001b[32mGetting requirements to build wheel\u001b[0m did not run successfully.\n",
            "  \u001b[31m│\u001b[0m exit code: \u001b[1;36m1\u001b[0m\n",
            "  \u001b[31m╰─>\u001b[0m See above for output.\n",
            "  \n",
            "  \u001b[1;35mnote\u001b[0m: This error originates from a subprocess, and is likely not a problem with pip.\n",
            "  Getting requirements to build wheel ... \u001b[?25l\u001b[?25herror\n",
            "\u001b[1;31merror\u001b[0m: \u001b[1msubprocess-exited-with-error\u001b[0m\n",
            "\n",
            "\u001b[31m×\u001b[0m \u001b[32mGetting requirements to build wheel\u001b[0m did not run successfully.\n",
            "\u001b[31m│\u001b[0m exit code: \u001b[1;36m1\u001b[0m\n",
            "\u001b[31m╰─>\u001b[0m See above for output.\n",
            "\n",
            "\u001b[1;35mnote\u001b[0m: This error originates from a subprocess, and is likely not a problem with pip.\n"
          ]
        }
      ],
      "source": [
        "pip install qiskit==0.39.2"
      ]
    },
    {
      "cell_type": "code",
      "execution_count": 3,
      "metadata": {
        "id": "r2PJyP7A0m8q",
        "colab": {
          "base_uri": "https://localhost:8080/"
        },
        "outputId": "26bda28e-374e-4bd2-c2cd-af900c877683"
      },
      "outputs": [
        {
          "output_type": "stream",
          "name": "stdout",
          "text": [
            "Collecting pennylane-qiskit==0.24.0\n",
            "  Downloading PennyLane_qiskit-0.24.0-py3-none-any.whl.metadata (6.9 kB)\n",
            "Collecting qiskit>=0.32 (from pennylane-qiskit==0.24.0)\n",
            "  Downloading qiskit-2.2.0-cp39-abi3-manylinux2014_x86_64.manylinux_2_17_x86_64.whl.metadata (12 kB)\n",
            "Collecting mthree>=0.17 (from pennylane-qiskit==0.24.0)\n",
            "  Downloading mthree-3.0.0-cp312-cp312-manylinux_2_34_x86_64.whl.metadata (5.0 kB)\n",
            "Requirement already satisfied: pennylane>=0.23 in /usr/local/lib/python3.12/dist-packages (from pennylane-qiskit==0.24.0) (0.26.0)\n",
            "Requirement already satisfied: numpy in /usr/local/lib/python3.12/dist-packages (from pennylane-qiskit==0.24.0) (2.0.2)\n",
            "Requirement already satisfied: networkx>=2.2 in /usr/local/lib/python3.12/dist-packages (from pennylane-qiskit==0.24.0) (3.5)\n",
            "Requirement already satisfied: scipy>=1.11.1 in /usr/local/lib/python3.12/dist-packages (from mthree>=0.17->pennylane-qiskit==0.24.0) (1.16.2)\n",
            "Requirement already satisfied: cython>=3.0.10 in /usr/local/lib/python3.12/dist-packages (from mthree>=0.17->pennylane-qiskit==0.24.0) (3.0.12)\n",
            "Requirement already satisfied: psutil in /usr/local/lib/python3.12/dist-packages (from mthree>=0.17->pennylane-qiskit==0.24.0) (5.9.5)\n",
            "Requirement already satisfied: orjson>=3.0.0 in /usr/local/lib/python3.12/dist-packages (from mthree>=0.17->pennylane-qiskit==0.24.0) (3.11.3)\n",
            "Collecting runningman>=2.1 (from mthree>=0.17->pennylane-qiskit==0.24.0)\n",
            "  Downloading runningman-2.3.0.tar.gz (15 kB)\n",
            "  Preparing metadata (setup.py) ... \u001b[?25l\u001b[?25hdone\n",
            "Requirement already satisfied: retworkx in /usr/local/lib/python3.12/dist-packages (from pennylane>=0.23->pennylane-qiskit==0.24.0) (0.17.1)\n",
            "Requirement already satisfied: autograd in /usr/local/lib/python3.12/dist-packages (from pennylane>=0.23->pennylane-qiskit==0.24.0) (1.8.0)\n",
            "Requirement already satisfied: toml in /usr/local/lib/python3.12/dist-packages (from pennylane>=0.23->pennylane-qiskit==0.24.0) (0.10.2)\n",
            "Requirement already satisfied: appdirs in /usr/local/lib/python3.12/dist-packages (from pennylane>=0.23->pennylane-qiskit==0.24.0) (1.4.4)\n",
            "Requirement already satisfied: semantic-version>=2.7 in /usr/local/lib/python3.12/dist-packages (from pennylane>=0.23->pennylane-qiskit==0.24.0) (2.10.0)\n",
            "Requirement already satisfied: autoray>=0.3.1 in /usr/local/lib/python3.12/dist-packages (from pennylane>=0.23->pennylane-qiskit==0.24.0) (0.8.0)\n",
            "Requirement already satisfied: cachetools in /usr/local/lib/python3.12/dist-packages (from pennylane>=0.23->pennylane-qiskit==0.24.0) (5.5.2)\n",
            "Requirement already satisfied: pennylane-lightning>=0.26 in /usr/local/lib/python3.12/dist-packages (from pennylane>=0.23->pennylane-qiskit==0.24.0) (0.28.0)\n",
            "Requirement already satisfied: rustworkx>=0.15.0 in /usr/local/lib/python3.12/dist-packages (from qiskit>=0.32->pennylane-qiskit==0.24.0) (0.17.1)\n",
            "Requirement already satisfied: dill>=0.3 in /usr/local/lib/python3.12/dist-packages (from qiskit>=0.32->pennylane-qiskit==0.24.0) (0.3.8)\n",
            "Collecting stevedore>=3.0.0 (from qiskit>=0.32->pennylane-qiskit==0.24.0)\n",
            "  Downloading stevedore-5.5.0-py3-none-any.whl.metadata (2.2 kB)\n",
            "Requirement already satisfied: typing-extensions in /usr/local/lib/python3.12/dist-packages (from qiskit>=0.32->pennylane-qiskit==0.24.0) (4.15.0)\n",
            "Requirement already satisfied: ninja in /usr/local/lib/python3.12/dist-packages (from pennylane-lightning>=0.26->pennylane>=0.23->pennylane-qiskit==0.24.0) (1.13.0)\n",
            "Collecting qiskit_ibm_runtime>=0.22 (from runningman>=2.1->mthree>=0.17->pennylane-qiskit==0.24.0)\n",
            "  Downloading qiskit_ibm_runtime-0.41.1-py3-none-any.whl.metadata (21 kB)\n",
            "Requirement already satisfied: requests>=2.19 in /usr/local/lib/python3.12/dist-packages (from qiskit_ibm_runtime>=0.22->runningman>=2.1->mthree>=0.17->pennylane-qiskit==0.24.0) (2.32.4)\n",
            "Collecting requests-ntlm>=1.1.0 (from qiskit_ibm_runtime>=0.22->runningman>=2.1->mthree>=0.17->pennylane-qiskit==0.24.0)\n",
            "  Downloading requests_ntlm-1.3.0-py3-none-any.whl.metadata (2.4 kB)\n",
            "Requirement already satisfied: urllib3>=1.21.1 in /usr/local/lib/python3.12/dist-packages (from qiskit_ibm_runtime>=0.22->runningman>=2.1->mthree>=0.17->pennylane-qiskit==0.24.0) (2.5.0)\n",
            "Requirement already satisfied: python-dateutil>=2.8.0 in /usr/local/lib/python3.12/dist-packages (from qiskit_ibm_runtime>=0.22->runningman>=2.1->mthree>=0.17->pennylane-qiskit==0.24.0) (2.9.0.post0)\n",
            "Collecting ibm-platform-services>=0.22.6 (from qiskit_ibm_runtime>=0.22->runningman>=2.1->mthree>=0.17->pennylane-qiskit==0.24.0)\n",
            "  Downloading ibm_platform_services-0.68.3-py3-none-any.whl.metadata (9.0 kB)\n",
            "Requirement already satisfied: pydantic>=2.5.0 in /usr/local/lib/python3.12/dist-packages (from qiskit_ibm_runtime>=0.22->runningman>=2.1->mthree>=0.17->pennylane-qiskit==0.24.0) (2.11.9)\n",
            "Requirement already satisfied: packaging in /usr/local/lib/python3.12/dist-packages (from qiskit_ibm_runtime>=0.22->runningman>=2.1->mthree>=0.17->pennylane-qiskit==0.24.0) (25.0)\n",
            "Collecting ibm_cloud_sdk_core<4.0.0,>=3.24.2 (from ibm-platform-services>=0.22.6->qiskit_ibm_runtime>=0.22->runningman>=2.1->mthree>=0.17->pennylane-qiskit==0.24.0)\n",
            "  Downloading ibm_cloud_sdk_core-3.24.2-py3-none-any.whl.metadata (8.7 kB)\n",
            "Requirement already satisfied: annotated-types>=0.6.0 in /usr/local/lib/python3.12/dist-packages (from pydantic>=2.5.0->qiskit_ibm_runtime>=0.22->runningman>=2.1->mthree>=0.17->pennylane-qiskit==0.24.0) (0.7.0)\n",
            "Requirement already satisfied: pydantic-core==2.33.2 in /usr/local/lib/python3.12/dist-packages (from pydantic>=2.5.0->qiskit_ibm_runtime>=0.22->runningman>=2.1->mthree>=0.17->pennylane-qiskit==0.24.0) (2.33.2)\n",
            "Requirement already satisfied: typing-inspection>=0.4.0 in /usr/local/lib/python3.12/dist-packages (from pydantic>=2.5.0->qiskit_ibm_runtime>=0.22->runningman>=2.1->mthree>=0.17->pennylane-qiskit==0.24.0) (0.4.1)\n",
            "Requirement already satisfied: six>=1.5 in /usr/local/lib/python3.12/dist-packages (from python-dateutil>=2.8.0->qiskit_ibm_runtime>=0.22->runningman>=2.1->mthree>=0.17->pennylane-qiskit==0.24.0) (1.17.0)\n",
            "Requirement already satisfied: charset_normalizer<4,>=2 in /usr/local/lib/python3.12/dist-packages (from requests>=2.19->qiskit_ibm_runtime>=0.22->runningman>=2.1->mthree>=0.17->pennylane-qiskit==0.24.0) (3.4.3)\n",
            "Requirement already satisfied: idna<4,>=2.5 in /usr/local/lib/python3.12/dist-packages (from requests>=2.19->qiskit_ibm_runtime>=0.22->runningman>=2.1->mthree>=0.17->pennylane-qiskit==0.24.0) (3.10)\n",
            "Requirement already satisfied: certifi>=2017.4.17 in /usr/local/lib/python3.12/dist-packages (from requests>=2.19->qiskit_ibm_runtime>=0.22->runningman>=2.1->mthree>=0.17->pennylane-qiskit==0.24.0) (2025.8.3)\n",
            "Requirement already satisfied: cryptography>=1.3 in /usr/local/lib/python3.12/dist-packages (from requests-ntlm>=1.1.0->qiskit_ibm_runtime>=0.22->runningman>=2.1->mthree>=0.17->pennylane-qiskit==0.24.0) (43.0.3)\n",
            "Collecting pyspnego>=0.4.0 (from requests-ntlm>=1.1.0->qiskit_ibm_runtime>=0.22->runningman>=2.1->mthree>=0.17->pennylane-qiskit==0.24.0)\n",
            "  Downloading pyspnego-0.12.0-py3-none-any.whl.metadata (4.1 kB)\n",
            "Requirement already satisfied: cffi>=1.12 in /usr/local/lib/python3.12/dist-packages (from cryptography>=1.3->requests-ntlm>=1.1.0->qiskit_ibm_runtime>=0.22->runningman>=2.1->mthree>=0.17->pennylane-qiskit==0.24.0) (2.0.0)\n",
            "Requirement already satisfied: PyJWT<3.0.0,>=2.10.1 in /usr/local/lib/python3.12/dist-packages (from ibm_cloud_sdk_core<4.0.0,>=3.24.2->ibm-platform-services>=0.22.6->qiskit_ibm_runtime>=0.22->runningman>=2.1->mthree>=0.17->pennylane-qiskit==0.24.0) (2.10.1)\n",
            "Requirement already satisfied: pycparser in /usr/local/lib/python3.12/dist-packages (from cffi>=1.12->cryptography>=1.3->requests-ntlm>=1.1.0->qiskit_ibm_runtime>=0.22->runningman>=2.1->mthree>=0.17->pennylane-qiskit==0.24.0) (2.23)\n",
            "Downloading PennyLane_qiskit-0.24.0-py3-none-any.whl (34 kB)\n",
            "Downloading mthree-3.0.0-cp312-cp312-manylinux_2_34_x86_64.whl (5.9 MB)\n",
            "\u001b[2K   \u001b[90m━━━━━━━━━━━━━━━━━━━━━━━━━━━━━━━━━━━━━━━━\u001b[0m \u001b[32m5.9/5.9 MB\u001b[0m \u001b[31m13.6 MB/s\u001b[0m eta \u001b[36m0:00:00\u001b[0m\n",
            "\u001b[?25hDownloading qiskit-2.2.0-cp39-abi3-manylinux2014_x86_64.manylinux_2_17_x86_64.whl (8.0 MB)\n",
            "\u001b[2K   \u001b[90m━━━━━━━━━━━━━━━━━━━━━━━━━━━━━━━━━━━━━━━━\u001b[0m \u001b[32m8.0/8.0 MB\u001b[0m \u001b[31m26.8 MB/s\u001b[0m eta \u001b[36m0:00:00\u001b[0m\n",
            "\u001b[?25hDownloading stevedore-5.5.0-py3-none-any.whl (49 kB)\n",
            "\u001b[2K   \u001b[90m━━━━━━━━━━━━━━━━━━━━━━━━━━━━━━━━━━━━━━━━\u001b[0m \u001b[32m49.5/49.5 kB\u001b[0m \u001b[31m2.0 MB/s\u001b[0m eta \u001b[36m0:00:00\u001b[0m\n",
            "\u001b[?25hDownloading qiskit_ibm_runtime-0.41.1-py3-none-any.whl (1.4 MB)\n",
            "\u001b[2K   \u001b[90m━━━━━━━━━━━━━━━━━━━━━━━━━━━━━━━━━━━━━━━━\u001b[0m \u001b[32m1.4/1.4 MB\u001b[0m \u001b[31m27.5 MB/s\u001b[0m eta \u001b[36m0:00:00\u001b[0m\n",
            "\u001b[?25hDownloading ibm_platform_services-0.68.3-py3-none-any.whl (366 kB)\n",
            "\u001b[2K   \u001b[90m━━━━━━━━━━━━━━━━━━━━━━━━━━━━━━━━━━━━━━━━\u001b[0m \u001b[32m366.7/366.7 kB\u001b[0m \u001b[31m16.2 MB/s\u001b[0m eta \u001b[36m0:00:00\u001b[0m\n",
            "\u001b[?25hDownloading requests_ntlm-1.3.0-py3-none-any.whl (6.6 kB)\n",
            "Downloading ibm_cloud_sdk_core-3.24.2-py3-none-any.whl (75 kB)\n",
            "\u001b[2K   \u001b[90m━━━━━━━━━━━━━━━━━━━━━━━━━━━━━━━━━━━━━━━━\u001b[0m \u001b[32m75.8/75.8 kB\u001b[0m \u001b[31m2.7 MB/s\u001b[0m eta \u001b[36m0:00:00\u001b[0m\n",
            "\u001b[?25hDownloading pyspnego-0.12.0-py3-none-any.whl (130 kB)\n",
            "\u001b[2K   \u001b[90m━━━━━━━━━━━━━━━━━━━━━━━━━━━━━━━━━━━━━━━━\u001b[0m \u001b[32m130.2/130.2 kB\u001b[0m \u001b[31m7.4 MB/s\u001b[0m eta \u001b[36m0:00:00\u001b[0m\n",
            "\u001b[?25hBuilding wheels for collected packages: runningman\n",
            "  Building wheel for runningman (setup.py) ... \u001b[?25l\u001b[?25hdone\n",
            "  Created wheel for runningman: filename=runningman-2.3.0-py3-none-any.whl size=20633 sha256=69ac98254b28a100c0446af816edef571c1c361f4b5f8aec88d2a81a2d6d7b25\n",
            "  Stored in directory: /root/.cache/pip/wheels/fe/e2/f9/d0b64e05745dbd68c6746279e5a551afd211820c4bb48da48b\n",
            "Successfully built runningman\n",
            "Installing collected packages: stevedore, qiskit, ibm_cloud_sdk_core, pyspnego, ibm-platform-services, requests-ntlm, qiskit_ibm_runtime, runningman, mthree, pennylane-qiskit\n",
            "Successfully installed ibm-platform-services-0.68.3 ibm_cloud_sdk_core-3.24.2 mthree-3.0.0 pennylane-qiskit-0.24.0 pyspnego-0.12.0 qiskit-2.2.0 qiskit_ibm_runtime-0.41.1 requests-ntlm-1.3.0 runningman-2.3.0 stevedore-5.5.0\n"
          ]
        }
      ],
      "source": [
        "pip install pennylane-qiskit==0.24.0"
      ]
    },
    {
      "cell_type": "code",
      "execution_count": 4,
      "metadata": {
        "id": "VJhmhFS9fGf0"
      },
      "outputs": [],
      "source": [
        "import pennylane as qml"
      ]
    },
    {
      "cell_type": "code",
      "execution_count": 5,
      "metadata": {
        "id": "vrl6Z5QKfU81"
      },
      "outputs": [],
      "source": [
        "dev = qml.device('default.qubit', wires = 2)"
      ]
    },
    {
      "cell_type": "markdown",
      "source": [
        "\n",
        "**qml.device**: Esta es la función central en PennyLane para crear un dispositivo cuántico. Un dispositivo puede ser un simulador local (como en este caso) o una computadora cuántica real, como las de IBM, Google o Rigetti, si tienes las credenciales para acceder a ellas.\n",
        "\n",
        "**'default.qubit'**: Es el nombre del dispositivo que vas a usar. default.qubit es el simulador de propósito general que viene integrado con PennyLane. Es ideal para probar circuitos pequeños y medianos en tu propia computadora o en un entorno como Google Colab. Simula la física de los qubits de forma perfecta, sin ruido ni errores.\n",
        "\n",
        "*wires=2*: El parámetro wires le dice al dispositivo cuántico cuántos qubits debe tener. En la computación cuántica, los qubits son el equivalente cuántico de los bits en la computación clásica. Al establecer wires=2, estás creando un sistema cuántico de 2 qubits, que puede representar estados en un espacio de Hilbert de 2\n",
        "2\n",
        " =4 dimensiones. Esto es lo que necesitas para construir un estado de Bell, por ejemplo."
      ],
      "metadata": {
        "id": "tGVBfMQSYC79"
      }
    },
    {
      "cell_type": "code",
      "execution_count": 6,
      "metadata": {
        "id": "qfk0w-6lfVa2"
      },
      "outputs": [],
      "source": [
        "def qc():\n",
        "    qml.PauliX(wires = 0)\n",
        "    qml.Hadamard(wires = 0)\n",
        "    return qml.state()"
      ]
    },
    {
      "cell_type": "markdown",
      "source": [
        "**Esta línea de código crea un circuito cuántico que transforma el estado de un solo qubit. A continuación, te explico cada una de sus partes.**\n",
        "\n",
        "Explicación del Código\n",
        "qml.PauliX(wires=0): Esta compuerta, también conocida como compuerta NOT, invierte el estado del qubit. Dado que, por defecto, los qubits en PennyLane comienzan en el estado ∣0⟩, la compuerta Pauli-X lo cambia a ∣1⟩.\n",
        "\n",
        "qml.Hadamard(wires=0): Esta compuerta, a menudo llamada la compuerta de **\"superposición\"**, pone el qubit en una combinación de ambos estados, ∣0⟩ y ∣1⟩. Después de esta operación, si midieras el qubit, tendrías un 50% de probabilidad de que el resultado sea ∣0⟩ y un 50% de probabilidad de que sea ∣1⟩.\n",
        "\n",
        "**return qml.state()**: Esta línea le dice al circuito que devuelva el vector de estado final del qubit. El resultado es un vector de números complejos que representa el estado de superposición."
      ],
      "metadata": {
        "id": "tutS3wtNZIbG"
      }
    },
    {
      "cell_type": "code",
      "execution_count": 7,
      "metadata": {
        "id": "4jywiOd2flkz",
        "colab": {
          "base_uri": "https://localhost:8080/"
        },
        "outputId": "eebaaaee-9504-49c9-b665-374a480ebaca"
      },
      "outputs": [
        {
          "output_type": "execute_result",
          "data": {
            "text/plain": [
              "tensor([ 0.70710678+0.j,  0.        +0.j, -0.70710678+0.j,\n",
              "         0.        +0.j], requires_grad=True)"
            ]
          },
          "metadata": {},
          "execution_count": 7
        }
      ],
      "source": [
        "qcirc = qml.QNode(qc, dev) # Assemble the circuit & the device.\n",
        "qcirc() # Run it!"
      ]
    },
    {
      "cell_type": "markdown",
      "source": [
        "**construir el circuito cuántico en PennyLane, y tiene el mismo efecto que el decorador @qml.qnode que vimos antes.**\n",
        "\n",
        "**Explicación del Código**\n",
        "qml.QNode: Esta es la clase central de PennyLane que une tu función de Python (el circuito) con un dispositivo cuántico (el simulador). Piensa en ella como el \"enlace\" entre las instrucciones de tu código y el hardware que las ejecutará.\n",
        "\n",
        "qc: Es el nombre de la función de Python que contiene tu circuito. En este caso, la función qc() que definiste anteriormente con las compuertas PauliX y Hadamard.\n",
        "\n",
        "dev: Es el objeto del dispositivo que creaste con la línea dev = qml.device(...). Representa el simulador o el hardware real.\n",
        "\n",
        "Al crear qcirc, estás encapsulando el circuito cuántico y el dispositivo en un solo objeto. Esto es útil para flujos de trabajo más avanzados o cuando necesitas pasar el circuito a otras funciones.\n",
        "\n",
        "qcirc()\n",
        "La llamada qcirc() es lo que ejecuta el circuito. Es el equivalente a ejecutar la función qc() en el código anterior. Cuando la llamas, PennyLane hace lo siguiente:\n",
        "\n",
        "Carga el estado inicial del dispositivo (dev).\n",
        "\n",
        "Ejecuta secuencialmente todas las operaciones definidas en la función qc().\n",
        "\n",
        "Devuelve el resultado de la función (return qml.state())."
      ],
      "metadata": {
        "id": "4TBb8w32Zdsh"
      }
    },
    {
      "cell_type": "code",
      "execution_count": 8,
      "metadata": {
        "id": "8cGH54ejfmV5",
        "colab": {
          "base_uri": "https://localhost:8080/"
        },
        "outputId": "b640c257-7283-4219-db8e-91ed90d853c6"
      },
      "outputs": [
        {
          "output_type": "execute_result",
          "data": {
            "text/plain": [
              "tensor([ 0.70710678+0.j,  0.        +0.j, -0.70710678+0.j,\n",
              "         0.        +0.j], requires_grad=True)"
            ]
          },
          "metadata": {},
          "execution_count": 8
        }
      ],
      "source": [
        "@qml.qnode(dev) # We add this decorator to use the device dev.\n",
        "def qcirc():\n",
        "    qml.PauliX(wires = 0)\n",
        "    qml.Hadamard(wires = 0)\n",
        "    return qml.state()\n",
        "\n",
        "# Now qcirc is already a QNode. We can just run it!\n",
        "qcirc()"
      ]
    },
    {
      "cell_type": "markdown",
      "source": [
        "En esencia, el decorador **@qml.qnode** es una forma más simple y \"elegante\" de vincular tu código (la función que define el circuito) con un dispositivo cuántico (el simulador o hardware real). Actúa como un envoltorio que convierte tu función de Python en un circuito cuántico ejecutable.\n",
        "\n",
        "Explicación detallada\n",
        "Cuando usas **@qml.qnode(dev)** sobre una función, estás diciéndole a PennyLane lo siguiente:\n",
        "\n",
        "Enlazar con un dispositivo: \"Usa el dispositivo que se llama dev para ejecutar las operaciones que están dentro de esta función\". El dispositivo dev es el simulador o hardware cuántico que inicializaste con qml.device().\n",
        "\n",
        "Gestionar el flujo de datos: \"Cuando llame a esta función, no la ejecutes como una función normal. En su lugar, toma las operaciones cuánticas que están dentro (como **qml.PauliX)** y envíalas al dispositivo para que se procesen\".\n",
        "\n",
        "Devolver el resultado: \"Toma la salida del dispositivo (qml.state()) y devuélvemela como el resultado de la función\"."
      ],
      "metadata": {
        "id": "l_x0qTwiZ_P-"
      }
    },
    {
      "cell_type": "markdown",
      "source": [
        "**Comparación con el método alternativo**\n",
        "El método alternativo, qcirc = qml.QNode(qc, dev), hace exactamente lo mismo, pero de forma más explícita. El decorador @ es simplemente una abreviación de Python para lograr la misma funcionalidad."
      ],
      "metadata": {
        "id": "neREy_HbaV0Y"
      }
    },
    {
      "cell_type": "code",
      "execution_count": 9,
      "metadata": {
        "id": "h3Q6ewMxf7Oz"
      },
      "outputs": [],
      "source": [
        "dev = qml.device('default.qubit', wires = 1)\n",
        "@qml.qnode(dev)\n",
        "def qcirc(theta):\n",
        "    qml.RX(theta, wires = 0)\n",
        "    return qml.state()"
      ]
    },
    {
      "cell_type": "markdown",
      "source": [
        "**Explicación del Código**\n",
        "dev = qml.device('default.qubit', wires=1): Esta línea inicializa el dispositivo cuántico donde se ejecutará el circuito. Es el equivalente a encender una computadora.\n",
        "\n",
        "**qml.device:** Es la función de PennyLane para seleccionar un simulador o hardware cuántico real.\n",
        "\n",
        "**'default.qubit':** Indica que se usará el simulador de propósito general de PennyLane, que es ideal para pruebas locales.\n",
        "\n",
        "**wires=1:** Define el número de qubits en el sistema. En este caso, solo necesitas uno para la operación.\n",
        "\n",
        "**@qml.qnode(dev):** Este es un decorador de PennyLane que enlaza tu función de Python (qcirc) con el dispositivo que acabas de definir (dev). Es una forma elegante de decirle a PennyLane que la función siguiente es un circuito cuántico y que debe ser ejecutado en el dispositivo especificado.\n",
        "\n",
        "**def qcirc(theta):** Esta es la función de Python que define las operaciones de tu circuito.\n",
        "\n",
        "**theta:**  Es un parámetro que se pasa al circuito. En la computación cuántica, a menudo se usan parámetros para optimizar los circuitos y encontrar las soluciones a problemas.\n",
        "\n",
        "qml.RX(theta, wires=0):  Esta es la operación cuántica principal.\n",
        "\n",
        "qml.RX: Es una compuerta que realiza una rotación alrededor del eje X en la esfera de Bloch.\n",
        "\n",
        "**theta:** Es el ángulo de rotación.\n",
        "\n",
        "**wires=0:** Especifica el qubit al que se le aplica la rotación. En este caso, el único qubit del sistema.\n",
        "\n",
        "**return qml.state():** Esta línea le dice a PennyLane que mida y devuelva el estado final del qubit después de aplicar la rotación.\n",
        "\n",
        "**En resumen**, el código crea un circuito cuántico que toma un ángulo como parámetro, aplica una rotación a un qubit y luego devuelve el estado cuántico resultante. Esto es una base fundamental para muchos algoritmos cuánticos."
      ],
      "metadata": {
        "id": "2qnz03sSbNiB"
      }
    },
    {
      "cell_type": "code",
      "execution_count": 10,
      "metadata": {
        "id": "8eg3Rex_f-8Q",
        "colab": {
          "base_uri": "https://localhost:8080/"
        },
        "outputId": "73699d91-0e89-4552-fa04-479bea79fb15"
      },
      "outputs": [
        {
          "output_type": "stream",
          "name": "stdout",
          "text": [
            "0: ──RX(2.00)─┤  State\n"
          ]
        }
      ],
      "source": [
        "print(qml.draw(qcirc)(theta = 2))"
      ]
    },
    {
      "cell_type": "markdown",
      "source": [
        "**La línea de código print(qml.draw(qcirc)(theta = 2)) es una herramienta muy útil en PennyLane para visualizar un circuito cuántico en formato de texto. Te permite ver un diagrama del circuito tal como lo construiste en tu código, lo que es invaluable para depurar y entender las operaciones.**\n",
        "\n",
        "Explicación del Código\n",
        "qml.draw(qcirc): Esta función toma tu circuito cuántico (qcirc) como argumento. Su propósito es generar una representación del circuito que luego se puede imprimir.\n",
        "\n",
        "(theta = 2): Aquí, le estás pasando el valor del parámetro theta a la función qcirc antes de que qml.draw la dibuje. Es crucial proporcionar un valor para cualquier parámetro que el circuito requiera. En este caso, el valor es 2 radianes.\n",
        "\n",
        "print(...): Finalmente, el comando print muestra la representación de texto del circuito en la consola."
      ],
      "metadata": {
        "id": "7FjPtQDhcu86"
      }
    },
    {
      "cell_type": "code",
      "execution_count": 11,
      "metadata": {
        "id": "iURSusrEgECx",
        "colab": {
          "base_uri": "https://localhost:8080/"
        },
        "outputId": "1b7c8eab-88bb-4384-8d61-8b08fae64e0d"
      },
      "outputs": [
        {
          "output_type": "stream",
          "name": "stdout",
          "text": [
            "Probs. wires [1, 2] with H in wire 1: [0.5 0.  0.5 0. ]\n",
            "Sample 1 after H: [1 0 0 0]\n",
            "Sample 2 after H x I: [[1 0]\n",
            " [1 0]\n",
            " [1 0]\n",
            " [0 0]]\n"
          ]
        }
      ],
      "source": [
        "dev = qml.device('default.qubit', wires = 3)\n",
        "\n",
        "# Get probabilities\n",
        "@qml.qnode(dev)\n",
        "def qcirc():\n",
        "    qml.Hadamard(wires = 1)\n",
        "    return qml.probs(wires = [1, 2]) # Only the last 2 wires.\n",
        "prob = qcirc()\n",
        "print(\"Probs. wires [1, 2] with H in wire 1:\", prob)\n",
        "\n",
        "# Get a sample, not having specified shots in the device.\n",
        "@qml.qnode(dev)\n",
        "def qcirc():\n",
        "    qml.Hadamard(wires = 0)\n",
        "    return qml.sample(wires = 0) # Only the first wire.\n",
        "s1 = qcirc(shots = 4) # We specify the shots here.\n",
        "print(\"Sample 1 after H:\", s1)\n",
        "\n",
        "# Get a sample with shots in the device.\n",
        "dev = qml.device('default.qubit', wires = 2, shots = 4)\n",
        "@qml.qnode(dev)\n",
        "def qcirc():\n",
        "    qml.Hadamard(wires=0)\n",
        "    return qml.sample() # Will sample all wires.\n",
        "s2 = qcirc()\n",
        "print(\"Sample 2 after H x I:\", s2)"
      ]
    },
    {
      "cell_type": "markdown",
      "source": [
        "**Medición de Probabilidades**\n",
        "La primera parte del código calcula las probabilidades de los estados cuánticos.\n",
        "\n",
        "**dev = qml.device('default.qubit', wires = 3): Inicializa un dispositivo cuántico (un simulador) con 3 qubits (con índices del 0 al 2).**\n",
        "\n",
        "**qml.Hadamard(wires = 1): Aplica una compuerta Hadamard al qubit 1. Esto lo pone en un estado de superposición, lo que significa que tiene una probabilidad de 50% de ser medido como 0 y 50% de ser medido como 1. Los otros qubits (0 y 2) permanecen en su estado por defecto, que es 0.**\n",
        "\n",
        "**return qml.probs(wires = [1, 2]): Esta es la operación de medición. Le pide al circuito que devuelva las probabilidades de los estados de los qubits 1 y 2. Como el qubit 1 está en superposición y el qubit 2 en el estado 0, las probabilidades serán de 50% para el estado ∣00⟩ y 50% para el estado ∣10⟩.**\n",
        "\n",
        "**prob = qcirc(): Ejecuta el circuito, y las probabilidades resultantes se almacenan en la variable prob.**\n",
        "\n",
        "**Medición de Muestras**\n",
        "Las siguientes dos secciones muestran cómo tomar muestras del circuito, lo cual simula el proceso de medición repetida de una computadora cuántica real.\n",
        "\n",
        "**qml.sample(wires = 0): Esta medición devuelve una lista de muestras del qubit 0.**\n",
        "\n",
        "**s1 = qcirc(shots = 4): Aquí, el número de mediciones (shots = 4) se especifica al llamar a la función. El circuito se ejecuta 4 veces, y el resultado (s1) será una lista de 4 valores aleatorios, ya sean 0 o 1, como [1, 0, 0, 1]. El resultado es probabilístico y no determinista.**\n",
        "\n",
        "Muestreo con shots en el Dispositivo\n",
        "dev = qml.device('default.qubit', wires = 2, shots = 4): Esta línea reinicializa el dispositivo, pero el número de mediciones (shots = 4) se establece al crear el dispositivo. Esto es útil para ejecutar varios circuitos en el mismo dispositivo con la misma configuración.\n",
        "\n",
        "return qml.sample(): Al llamar a qml.sample() sin argumentos, se le dice a PennyLane que muestree todos los qubits del dispositivo.\n",
        "\n",
        "s2 = qcirc(): La función se ejecuta sin un argumento shots porque ya se definió en el dispositivo. El resultado será una lista de 4 muestras, donde cada muestra es un par de bits (uno para cada uno de los dos qubits del dispositivo), como [[0, 1], [0, 0], [1, 1], [0, 1]]."
      ],
      "metadata": {
        "id": "uHihxNaudR92"
      }
    },
    {
      "cell_type": "code",
      "source": [
        "!pip install qiskit"
      ],
      "metadata": {
        "colab": {
          "base_uri": "https://localhost:8080/"
        },
        "id": "gfthRa4Adt0V",
        "outputId": "42f115d4-df0e-4420-9d04-7acbc8a00d01"
      },
      "execution_count": 14,
      "outputs": [
        {
          "output_type": "stream",
          "name": "stdout",
          "text": [
            "Requirement already satisfied: qiskit in /usr/local/lib/python3.12/dist-packages (2.2.0)\n",
            "Requirement already satisfied: rustworkx>=0.15.0 in /usr/local/lib/python3.12/dist-packages (from qiskit) (0.17.1)\n",
            "Requirement already satisfied: numpy<3,>=1.17 in /usr/local/lib/python3.12/dist-packages (from qiskit) (2.0.2)\n",
            "Requirement already satisfied: scipy>=1.5 in /usr/local/lib/python3.12/dist-packages (from qiskit) (1.16.2)\n",
            "Requirement already satisfied: dill>=0.3 in /usr/local/lib/python3.12/dist-packages (from qiskit) (0.3.8)\n",
            "Requirement already satisfied: stevedore>=3.0.0 in /usr/local/lib/python3.12/dist-packages (from qiskit) (5.5.0)\n",
            "Requirement already satisfied: typing-extensions in /usr/local/lib/python3.12/dist-packages (from qiskit) (4.15.0)\n"
          ]
        }
      ]
    },
    {
      "cell_type": "code",
      "source": [
        "!pip install pennylane-qiskit"
      ],
      "metadata": {
        "colab": {
          "base_uri": "https://localhost:8080/"
        },
        "id": "F67OCT1CdxaZ",
        "outputId": "a8f25ece-4852-4135-9f79-6058227251fd"
      },
      "execution_count": 15,
      "outputs": [
        {
          "output_type": "stream",
          "name": "stdout",
          "text": [
            "Requirement already satisfied: pennylane-qiskit in /usr/local/lib/python3.12/dist-packages (0.24.0)\n",
            "Requirement already satisfied: qiskit>=0.32 in /usr/local/lib/python3.12/dist-packages (from pennylane-qiskit) (2.2.0)\n",
            "Requirement already satisfied: mthree>=0.17 in /usr/local/lib/python3.12/dist-packages (from pennylane-qiskit) (3.0.0)\n",
            "Requirement already satisfied: pennylane>=0.23 in /usr/local/lib/python3.12/dist-packages (from pennylane-qiskit) (0.26.0)\n",
            "Requirement already satisfied: numpy in /usr/local/lib/python3.12/dist-packages (from pennylane-qiskit) (2.0.2)\n",
            "Requirement already satisfied: networkx>=2.2 in /usr/local/lib/python3.12/dist-packages (from pennylane-qiskit) (3.5)\n",
            "Requirement already satisfied: scipy>=1.11.1 in /usr/local/lib/python3.12/dist-packages (from mthree>=0.17->pennylane-qiskit) (1.16.2)\n",
            "Requirement already satisfied: cython>=3.0.10 in /usr/local/lib/python3.12/dist-packages (from mthree>=0.17->pennylane-qiskit) (3.0.12)\n",
            "Requirement already satisfied: psutil in /usr/local/lib/python3.12/dist-packages (from mthree>=0.17->pennylane-qiskit) (5.9.5)\n",
            "Requirement already satisfied: orjson>=3.0.0 in /usr/local/lib/python3.12/dist-packages (from mthree>=0.17->pennylane-qiskit) (3.11.3)\n",
            "Requirement already satisfied: runningman>=2.1 in /usr/local/lib/python3.12/dist-packages (from mthree>=0.17->pennylane-qiskit) (2.3.0)\n",
            "Requirement already satisfied: retworkx in /usr/local/lib/python3.12/dist-packages (from pennylane>=0.23->pennylane-qiskit) (0.17.1)\n",
            "Requirement already satisfied: autograd in /usr/local/lib/python3.12/dist-packages (from pennylane>=0.23->pennylane-qiskit) (1.8.0)\n",
            "Requirement already satisfied: toml in /usr/local/lib/python3.12/dist-packages (from pennylane>=0.23->pennylane-qiskit) (0.10.2)\n",
            "Requirement already satisfied: appdirs in /usr/local/lib/python3.12/dist-packages (from pennylane>=0.23->pennylane-qiskit) (1.4.4)\n",
            "Requirement already satisfied: semantic-version>=2.7 in /usr/local/lib/python3.12/dist-packages (from pennylane>=0.23->pennylane-qiskit) (2.10.0)\n",
            "Requirement already satisfied: autoray>=0.3.1 in /usr/local/lib/python3.12/dist-packages (from pennylane>=0.23->pennylane-qiskit) (0.8.0)\n",
            "Requirement already satisfied: cachetools in /usr/local/lib/python3.12/dist-packages (from pennylane>=0.23->pennylane-qiskit) (5.5.2)\n",
            "Requirement already satisfied: pennylane-lightning>=0.26 in /usr/local/lib/python3.12/dist-packages (from pennylane>=0.23->pennylane-qiskit) (0.28.0)\n",
            "Requirement already satisfied: rustworkx>=0.15.0 in /usr/local/lib/python3.12/dist-packages (from qiskit>=0.32->pennylane-qiskit) (0.17.1)\n",
            "Requirement already satisfied: dill>=0.3 in /usr/local/lib/python3.12/dist-packages (from qiskit>=0.32->pennylane-qiskit) (0.3.8)\n",
            "Requirement already satisfied: stevedore>=3.0.0 in /usr/local/lib/python3.12/dist-packages (from qiskit>=0.32->pennylane-qiskit) (5.5.0)\n",
            "Requirement already satisfied: typing-extensions in /usr/local/lib/python3.12/dist-packages (from qiskit>=0.32->pennylane-qiskit) (4.15.0)\n",
            "Requirement already satisfied: ninja in /usr/local/lib/python3.12/dist-packages (from pennylane-lightning>=0.26->pennylane>=0.23->pennylane-qiskit) (1.13.0)\n",
            "Requirement already satisfied: qiskit-ibm-runtime>=0.22 in /usr/local/lib/python3.12/dist-packages (from runningman>=2.1->mthree>=0.17->pennylane-qiskit) (0.41.1)\n",
            "Requirement already satisfied: requests>=2.19 in /usr/local/lib/python3.12/dist-packages (from qiskit-ibm-runtime>=0.22->runningman>=2.1->mthree>=0.17->pennylane-qiskit) (2.32.4)\n",
            "Requirement already satisfied: requests-ntlm>=1.1.0 in /usr/local/lib/python3.12/dist-packages (from qiskit-ibm-runtime>=0.22->runningman>=2.1->mthree>=0.17->pennylane-qiskit) (1.3.0)\n",
            "Requirement already satisfied: urllib3>=1.21.1 in /usr/local/lib/python3.12/dist-packages (from qiskit-ibm-runtime>=0.22->runningman>=2.1->mthree>=0.17->pennylane-qiskit) (2.5.0)\n",
            "Requirement already satisfied: python-dateutil>=2.8.0 in /usr/local/lib/python3.12/dist-packages (from qiskit-ibm-runtime>=0.22->runningman>=2.1->mthree>=0.17->pennylane-qiskit) (2.9.0.post0)\n",
            "Requirement already satisfied: ibm-platform-services>=0.22.6 in /usr/local/lib/python3.12/dist-packages (from qiskit-ibm-runtime>=0.22->runningman>=2.1->mthree>=0.17->pennylane-qiskit) (0.68.3)\n",
            "Requirement already satisfied: pydantic>=2.5.0 in /usr/local/lib/python3.12/dist-packages (from qiskit-ibm-runtime>=0.22->runningman>=2.1->mthree>=0.17->pennylane-qiskit) (2.11.9)\n",
            "Requirement already satisfied: packaging in /usr/local/lib/python3.12/dist-packages (from qiskit-ibm-runtime>=0.22->runningman>=2.1->mthree>=0.17->pennylane-qiskit) (25.0)\n",
            "Requirement already satisfied: ibm_cloud_sdk_core<4.0.0,>=3.24.2 in /usr/local/lib/python3.12/dist-packages (from ibm-platform-services>=0.22.6->qiskit-ibm-runtime>=0.22->runningman>=2.1->mthree>=0.17->pennylane-qiskit) (3.24.2)\n",
            "Requirement already satisfied: annotated-types>=0.6.0 in /usr/local/lib/python3.12/dist-packages (from pydantic>=2.5.0->qiskit-ibm-runtime>=0.22->runningman>=2.1->mthree>=0.17->pennylane-qiskit) (0.7.0)\n",
            "Requirement already satisfied: pydantic-core==2.33.2 in /usr/local/lib/python3.12/dist-packages (from pydantic>=2.5.0->qiskit-ibm-runtime>=0.22->runningman>=2.1->mthree>=0.17->pennylane-qiskit) (2.33.2)\n",
            "Requirement already satisfied: typing-inspection>=0.4.0 in /usr/local/lib/python3.12/dist-packages (from pydantic>=2.5.0->qiskit-ibm-runtime>=0.22->runningman>=2.1->mthree>=0.17->pennylane-qiskit) (0.4.1)\n",
            "Requirement already satisfied: six>=1.5 in /usr/local/lib/python3.12/dist-packages (from python-dateutil>=2.8.0->qiskit-ibm-runtime>=0.22->runningman>=2.1->mthree>=0.17->pennylane-qiskit) (1.17.0)\n",
            "Requirement already satisfied: charset_normalizer<4,>=2 in /usr/local/lib/python3.12/dist-packages (from requests>=2.19->qiskit-ibm-runtime>=0.22->runningman>=2.1->mthree>=0.17->pennylane-qiskit) (3.4.3)\n",
            "Requirement already satisfied: idna<4,>=2.5 in /usr/local/lib/python3.12/dist-packages (from requests>=2.19->qiskit-ibm-runtime>=0.22->runningman>=2.1->mthree>=0.17->pennylane-qiskit) (3.10)\n",
            "Requirement already satisfied: certifi>=2017.4.17 in /usr/local/lib/python3.12/dist-packages (from requests>=2.19->qiskit-ibm-runtime>=0.22->runningman>=2.1->mthree>=0.17->pennylane-qiskit) (2025.8.3)\n",
            "Requirement already satisfied: cryptography>=1.3 in /usr/local/lib/python3.12/dist-packages (from requests-ntlm>=1.1.0->qiskit-ibm-runtime>=0.22->runningman>=2.1->mthree>=0.17->pennylane-qiskit) (43.0.3)\n",
            "Requirement already satisfied: pyspnego>=0.4.0 in /usr/local/lib/python3.12/dist-packages (from requests-ntlm>=1.1.0->qiskit-ibm-runtime>=0.22->runningman>=2.1->mthree>=0.17->pennylane-qiskit) (0.12.0)\n",
            "Requirement already satisfied: cffi>=1.12 in /usr/local/lib/python3.12/dist-packages (from cryptography>=1.3->requests-ntlm>=1.1.0->qiskit-ibm-runtime>=0.22->runningman>=2.1->mthree>=0.17->pennylane-qiskit) (2.0.0)\n",
            "Requirement already satisfied: PyJWT<3.0.0,>=2.10.1 in /usr/local/lib/python3.12/dist-packages (from ibm_cloud_sdk_core<4.0.0,>=3.24.2->ibm-platform-services>=0.22.6->qiskit-ibm-runtime>=0.22->runningman>=2.1->mthree>=0.17->pennylane-qiskit) (2.10.1)\n",
            "Requirement already satisfied: pycparser in /usr/local/lib/python3.12/dist-packages (from cffi>=1.12->cryptography>=1.3->requests-ntlm>=1.1.0->qiskit-ibm-runtime>=0.22->runningman>=2.1->mthree>=0.17->pennylane-qiskit) (2.23)\n"
          ]
        }
      ]
    },
    {
      "cell_type": "code",
      "source": [
        "!pip install qiskit-aer"
      ],
      "metadata": {
        "colab": {
          "base_uri": "https://localhost:8080/"
        },
        "id": "4tyTbncnd0N4",
        "outputId": "59191227-0053-45ce-fc52-746061c1ce1f"
      },
      "execution_count": 16,
      "outputs": [
        {
          "output_type": "stream",
          "name": "stdout",
          "text": [
            "Collecting qiskit-aer\n",
            "  Downloading qiskit_aer-0.17.2-cp312-cp312-manylinux_2_17_x86_64.manylinux2014_x86_64.whl.metadata (8.3 kB)\n",
            "Requirement already satisfied: qiskit>=1.1.0 in /usr/local/lib/python3.12/dist-packages (from qiskit-aer) (2.2.0)\n",
            "Requirement already satisfied: numpy>=1.16.3 in /usr/local/lib/python3.12/dist-packages (from qiskit-aer) (2.0.2)\n",
            "Requirement already satisfied: scipy>=1.0 in /usr/local/lib/python3.12/dist-packages (from qiskit-aer) (1.16.2)\n",
            "Requirement already satisfied: psutil>=5 in /usr/local/lib/python3.12/dist-packages (from qiskit-aer) (5.9.5)\n",
            "Requirement already satisfied: python-dateutil>=2.8.0 in /usr/local/lib/python3.12/dist-packages (from qiskit-aer) (2.9.0.post0)\n",
            "Requirement already satisfied: six>=1.5 in /usr/local/lib/python3.12/dist-packages (from python-dateutil>=2.8.0->qiskit-aer) (1.17.0)\n",
            "Requirement already satisfied: rustworkx>=0.15.0 in /usr/local/lib/python3.12/dist-packages (from qiskit>=1.1.0->qiskit-aer) (0.17.1)\n",
            "Requirement already satisfied: dill>=0.3 in /usr/local/lib/python3.12/dist-packages (from qiskit>=1.1.0->qiskit-aer) (0.3.8)\n",
            "Requirement already satisfied: stevedore>=3.0.0 in /usr/local/lib/python3.12/dist-packages (from qiskit>=1.1.0->qiskit-aer) (5.5.0)\n",
            "Requirement already satisfied: typing-extensions in /usr/local/lib/python3.12/dist-packages (from qiskit>=1.1.0->qiskit-aer) (4.15.0)\n",
            "Downloading qiskit_aer-0.17.2-cp312-cp312-manylinux_2_17_x86_64.manylinux2014_x86_64.whl (12.4 MB)\n",
            "\u001b[2K   \u001b[90m━━━━━━━━━━━━━━━━━━━━━━━━━━━━━━━━━━━━━━━━\u001b[0m \u001b[32m12.4/12.4 MB\u001b[0m \u001b[31m26.5 MB/s\u001b[0m eta \u001b[36m0:00:00\u001b[0m\n",
            "\u001b[?25hInstalling collected packages: qiskit-aer\n",
            "Successfully installed qiskit-aer-0.17.2\n"
          ]
        }
      ]
    },
    {
      "cell_type": "code",
      "source": [
        "import pennylane as qml\n",
        "\n",
        "# Inicializamos el dispositivo con 2 cables\n",
        "dev = qml.device('default.qubit', wires=2)\n",
        "\n",
        "@qml.qnode(dev)\n",
        "def qcirc():\n",
        "    qml.Hadamard(wires=0)\n",
        "    # Devolvemos las probabilidades de ambos qubits\n",
        "    return qml.probs(wires=[0, 1])\n",
        "\n",
        "s = qcirc()\n",
        "print(\"The probabilities are\", s)"
      ],
      "metadata": {
        "colab": {
          "base_uri": "https://localhost:8080/"
        },
        "id": "jmjNpzlDfPgF",
        "outputId": "f189a097-1f43-4cc2-85bc-98cf75705cee"
      },
      "execution_count": 26,
      "outputs": [
        {
          "output_type": "stream",
          "name": "stdout",
          "text": [
            "The probabilities are [0.5 0.  0.5 0. ]\n"
          ]
        }
      ]
    },
    {
      "cell_type": "markdown",
      "metadata": {
        "id": "VW0v33UbgyYD"
      },
      "source": [
        "*Note*: In the following cell, you need to replace \"1234\" with your actual IBM token. Refer to *Appendix D* in the book for instructions on how to create an account and get your token. Be very careful not to disclose your token to anyone!"
      ]
    },
    {
      "cell_type": "code",
      "source": [
        "import pennylane as qml\n",
        "\n",
        "# Inicializamos el dispositivo con 2 cables\n",
        "dev = qml.device('default.qubit', wires=2)\n",
        "\n",
        "@qml.qnode(dev)\n",
        "def qcirc():\n",
        "    qml.Hadamard(wires=0)\n",
        "    # Devolvemos las probabilidades de ambos qubits\n",
        "    return qml.probs(wires=[0, 1])\n",
        "\n",
        "s = qcirc()\n",
        "print(\"The probabilities are\", s)"
      ],
      "metadata": {
        "colab": {
          "base_uri": "https://localhost:8080/"
        },
        "id": "0T7NojFBfnCq",
        "outputId": "0dbc8f67-97a3-4516-e59e-3080292e2991"
      },
      "execution_count": 29,
      "outputs": [
        {
          "output_type": "stream",
          "name": "stdout",
          "text": [
            "The probabilities are [0.5 0.  0.5 0. ]\n"
          ]
        }
      ]
    },
    {
      "cell_type": "code",
      "execution_count": 27,
      "metadata": {
        "id": "UOakFM20hl09"
      },
      "outputs": [],
      "source": [
        "ibm_token = \"1234\""
      ]
    },
    {
      "cell_type": "code",
      "execution_count": null,
      "metadata": {
        "id": "X9RsDG_hglVb"
      },
      "outputs": [],
      "source": [
        "# Import the modules.\n",
        "from qiskit import *\n",
        "from qiskit.providers.ibmq import *\n",
        "\n",
        "# Save our token if we haven't already.\n",
        "IBMQ.save_account(ibm_token)\n",
        "\n",
        "# Load the account and get the name of the least busy backend.\n",
        "prov = IBMQ.load_account()\n",
        "bck = least_busy(prov.backends(simulator = False)).name()\n",
        "\n",
        "# Invoke the PennyLane IBMQ device.\n",
        "dev = qml.device('qiskit.ibmq', wires = 1,\n",
        "    backend = bck, provider = prov)\n",
        "\n",
        "# Send a circuit and get some results!\n",
        "@qml.qnode(dev)\n",
        "def qcirc():\n",
        "    qml.Hadamard(wires = 0)\n",
        "    return qml.probs(wires = 0)\n",
        "print(qcirc())"
      ]
    }
  ],
  "metadata": {
    "colab": {
      "provenance": [],
      "include_colab_link": true
    },
    "kernelspec": {
      "display_name": "Python 3 (ipykernel)",
      "language": "python",
      "name": "python3"
    },
    "language_info": {
      "codemirror_mode": {
        "name": "ipython",
        "version": 3
      },
      "file_extension": ".py",
      "mimetype": "text/x-python",
      "name": "python",
      "nbconvert_exporter": "python",
      "pygments_lexer": "ipython3",
      "version": "3.10.8"
    }
  },
  "nbformat": 4,
  "nbformat_minor": 0
}