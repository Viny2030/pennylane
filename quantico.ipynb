{
  "nbformat": 4,
  "nbformat_minor": 0,
  "metadata": {
    "colab": {
      "provenance": [],
      "authorship_tag": "ABX9TyPPkvdVrGJDoVMULGCELe85",
      "include_colab_link": true
    },
    "kernelspec": {
      "name": "python3",
      "display_name": "Python 3"
    },
    "language_info": {
      "name": "python"
    }
  },
  "cells": [
    {
      "cell_type": "markdown",
      "metadata": {
        "id": "view-in-github",
        "colab_type": "text"
      },
      "source": [
        "<a href=\"https://colab.research.google.com/github/Viny2030/pennylane/blob/master/quantico.ipynb\" target=\"_parent\"><img src=\"https://colab.research.google.com/assets/colab-badge.svg\" alt=\"Open In Colab\"/></a>"
      ]
    },
    {
      "cell_type": "code",
      "execution_count": null,
      "metadata": {
        "colab": {
          "base_uri": "https://localhost:8080/"
        },
        "id": "EJvJLxxPKiZZ",
        "outputId": "a0ac6ab4-1c06-4154-f552-6f3591e21c25"
      },
      "outputs": [
        {
          "output_type": "stream",
          "name": "stdout",
          "text": [
            "Collecting pennylane\n",
            "  Downloading pennylane-0.42.3-py3-none-any.whl.metadata (11 kB)\n",
            "Requirement already satisfied: scipy in /usr/local/lib/python3.12/dist-packages (from pennylane) (1.16.2)\n",
            "Requirement already satisfied: networkx in /usr/local/lib/python3.12/dist-packages (from pennylane) (3.5)\n",
            "Collecting rustworkx>=0.14.0 (from pennylane)\n",
            "  Downloading rustworkx-0.17.1-cp39-abi3-manylinux_2_17_x86_64.manylinux2014_x86_64.whl.metadata (10 kB)\n",
            "Requirement already satisfied: autograd in /usr/local/lib/python3.12/dist-packages (from pennylane) (1.8.0)\n",
            "Collecting appdirs (from pennylane)\n",
            "  Downloading appdirs-1.4.4-py2.py3-none-any.whl.metadata (9.0 kB)\n",
            "Collecting autoray<0.8,>=0.6.11 (from pennylane)\n",
            "  Downloading autoray-0.7.2-py3-none-any.whl.metadata (5.8 kB)\n",
            "Requirement already satisfied: cachetools in /usr/local/lib/python3.12/dist-packages (from pennylane) (5.5.2)\n",
            "Collecting pennylane-lightning>=0.42 (from pennylane)\n",
            "  Downloading pennylane_lightning-0.42.0-cp312-cp312-manylinux_2_28_x86_64.whl.metadata (11 kB)\n",
            "Requirement already satisfied: requests in /usr/local/lib/python3.12/dist-packages (from pennylane) (2.32.4)\n",
            "Requirement already satisfied: tomlkit in /usr/local/lib/python3.12/dist-packages (from pennylane) (0.13.3)\n",
            "Requirement already satisfied: typing_extensions in /usr/local/lib/python3.12/dist-packages (from pennylane) (4.15.0)\n",
            "Requirement already satisfied: packaging in /usr/local/lib/python3.12/dist-packages (from pennylane) (25.0)\n",
            "Collecting diastatic-malt (from pennylane)\n",
            "  Downloading diastatic_malt-2.15.2-py3-none-any.whl.metadata (2.6 kB)\n",
            "Requirement already satisfied: numpy in /usr/local/lib/python3.12/dist-packages (from pennylane) (2.0.2)\n",
            "Collecting scipy-openblas32>=0.3.26 (from pennylane-lightning>=0.42->pennylane)\n",
            "  Downloading scipy_openblas32-0.3.30.0.2-py3-none-manylinux2014_x86_64.manylinux_2_17_x86_64.whl.metadata (57 kB)\n",
            "\u001b[2K     \u001b[90m━━━━━━━━━━━━━━━━━━━━━━━━━━━━━━━━━━━━━━━━\u001b[0m \u001b[32m57.1/57.1 kB\u001b[0m \u001b[31m2.2 MB/s\u001b[0m eta \u001b[36m0:00:00\u001b[0m\n",
            "\u001b[?25hRequirement already satisfied: astunparse in /usr/local/lib/python3.12/dist-packages (from diastatic-malt->pennylane) (1.6.3)\n",
            "Requirement already satisfied: gast in /usr/local/lib/python3.12/dist-packages (from diastatic-malt->pennylane) (0.6.0)\n",
            "Requirement already satisfied: termcolor in /usr/local/lib/python3.12/dist-packages (from diastatic-malt->pennylane) (3.1.0)\n",
            "Requirement already satisfied: charset_normalizer<4,>=2 in /usr/local/lib/python3.12/dist-packages (from requests->pennylane) (3.4.3)\n",
            "Requirement already satisfied: idna<4,>=2.5 in /usr/local/lib/python3.12/dist-packages (from requests->pennylane) (3.10)\n",
            "Requirement already satisfied: urllib3<3,>=1.21.1 in /usr/local/lib/python3.12/dist-packages (from requests->pennylane) (2.5.0)\n",
            "Requirement already satisfied: certifi>=2017.4.17 in /usr/local/lib/python3.12/dist-packages (from requests->pennylane) (2025.8.3)\n",
            "Requirement already satisfied: wheel<1.0,>=0.23.0 in /usr/local/lib/python3.12/dist-packages (from astunparse->diastatic-malt->pennylane) (0.45.1)\n",
            "Requirement already satisfied: six<2.0,>=1.6.1 in /usr/local/lib/python3.12/dist-packages (from astunparse->diastatic-malt->pennylane) (1.17.0)\n",
            "Downloading pennylane-0.42.3-py3-none-any.whl (4.8 MB)\n",
            "\u001b[2K   \u001b[90m━━━━━━━━━━━━━━━━━━━━━━━━━━━━━━━━━━━━━━━━\u001b[0m \u001b[32m4.8/4.8 MB\u001b[0m \u001b[31m50.5 MB/s\u001b[0m eta \u001b[36m0:00:00\u001b[0m\n",
            "\u001b[?25hDownloading autoray-0.7.2-py3-none-any.whl (930 kB)\n",
            "\u001b[2K   \u001b[90m━━━━━━━━━━━━━━━━━━━━━━━━━━━━━━━━━━━━━━━━\u001b[0m \u001b[32m930.8/930.8 kB\u001b[0m \u001b[31m28.5 MB/s\u001b[0m eta \u001b[36m0:00:00\u001b[0m\n",
            "\u001b[?25hDownloading pennylane_lightning-0.42.0-cp312-cp312-manylinux_2_28_x86_64.whl (2.6 MB)\n",
            "\u001b[2K   \u001b[90m━━━━━━━━━━━━━━━━━━━━━━━━━━━━━━━━━━━━━━━━\u001b[0m \u001b[32m2.6/2.6 MB\u001b[0m \u001b[31m48.5 MB/s\u001b[0m eta \u001b[36m0:00:00\u001b[0m\n",
            "\u001b[?25hDownloading rustworkx-0.17.1-cp39-abi3-manylinux_2_17_x86_64.manylinux2014_x86_64.whl (2.2 MB)\n",
            "\u001b[2K   \u001b[90m━━━━━━━━━━━━━━━━━━━━━━━━━━━━━━━━━━━━━━━━\u001b[0m \u001b[32m2.2/2.2 MB\u001b[0m \u001b[31m43.3 MB/s\u001b[0m eta \u001b[36m0:00:00\u001b[0m\n",
            "\u001b[?25hDownloading appdirs-1.4.4-py2.py3-none-any.whl (9.6 kB)\n",
            "Downloading diastatic_malt-2.15.2-py3-none-any.whl (167 kB)\n",
            "\u001b[2K   \u001b[90m━━━━━━━━━━━━━━━━━━━━━━━━━━━━━━━━━━━━━━━━\u001b[0m \u001b[32m167.9/167.9 kB\u001b[0m \u001b[31m13.7 MB/s\u001b[0m eta \u001b[36m0:00:00\u001b[0m\n",
            "\u001b[?25hDownloading scipy_openblas32-0.3.30.0.2-py3-none-manylinux2014_x86_64.manylinux_2_17_x86_64.whl (8.6 MB)\n",
            "\u001b[2K   \u001b[90m━━━━━━━━━━━━━━━━━━━━━━━━━━━━━━━━━━━━━━━━\u001b[0m \u001b[32m8.6/8.6 MB\u001b[0m \u001b[31m90.6 MB/s\u001b[0m eta \u001b[36m0:00:00\u001b[0m\n",
            "\u001b[?25hInstalling collected packages: appdirs, scipy-openblas32, rustworkx, autoray, diastatic-malt, pennylane-lightning, pennylane\n",
            "Successfully installed appdirs-1.4.4 autoray-0.7.2 diastatic-malt-2.15.2 pennylane-0.42.3 pennylane-lightning-0.42.0 rustworkx-0.17.1 scipy-openblas32-0.3.30.0.2\n"
          ]
        }
      ],
      "source": [
        "!pip install pennylane"
      ]
    },
    {
      "cell_type": "code",
      "source": [
        "!pip install numpy"
      ],
      "metadata": {
        "colab": {
          "base_uri": "https://localhost:8080/"
        },
        "id": "VlKHu0sFKuu0",
        "outputId": "51fbec00-4ee1-49bf-cf87-d674117e54c6"
      },
      "execution_count": null,
      "outputs": [
        {
          "output_type": "stream",
          "name": "stdout",
          "text": [
            "Requirement already satisfied: numpy in /usr/local/lib/python3.12/dist-packages (2.0.2)\n"
          ]
        }
      ]
    },
    {
      "cell_type": "code",
      "source": [
        "import pennylane as qml\n",
        "from pennylane import numpy as np"
      ],
      "metadata": {
        "id": "MtaIjFaaK0-B"
      },
      "execution_count": null,
      "outputs": []
    },
    {
      "cell_type": "markdown",
      "source": [
        "## por un lado circuitos por otro objetos encapsular un qubit"
      ],
      "metadata": {
        "id": "FrwUo0hMK8Cu"
      }
    },
    {
      "cell_type": "code",
      "source": [
        "dispositivo = qml.device(\"default.qubit\", wires=1)"
      ],
      "metadata": {
        "id": "XuJbpNjLLDyB"
      },
      "execution_count": null,
      "outputs": []
    },
    {
      "cell_type": "code",
      "source": [
        "dispositivo"
      ],
      "metadata": {
        "colab": {
          "base_uri": "https://localhost:8080/"
        },
        "id": "kctun8tNLLIK",
        "outputId": "fc6f23be-a2a7-4bca-ce74-51b5595141a9"
      },
      "execution_count": null,
      "outputs": [
        {
          "output_type": "execute_result",
          "data": {
            "text/plain": [
              "<default.qubit device (wires=1) at 0x787ee743ddf0>"
            ]
          },
          "metadata": {},
          "execution_count": 5
        }
      ]
    },
    {
      "cell_type": "markdown",
      "source": [
        "## definir circuito definir funcion"
      ],
      "metadata": {
        "id": "7Gc9ILNVLO5l"
      }
    },
    {
      "cell_type": "code",
      "source": [
        "@qml.qnode(dispositivo)## decorador funciones apliquen abajo\n",
        "def circuito(theta, w):\n",
        "    if theta > 0:\n",
        "       qml.RX(theta, wires= w)\n",
        "    else:\n",
        "       qml.PauliX(wires= w)\n",
        "    qml.Hadamard(wires = w)\n",
        "    return qml.state()"
      ],
      "metadata": {
        "id": "189UmgAmLNph"
      },
      "execution_count": null,
      "outputs": []
    },
    {
      "cell_type": "markdown",
      "source": [
        "## nodo tomar circuito y"
      ],
      "metadata": {
        "id": "U3nVC1OQL78X"
      }
    },
    {
      "cell_type": "code",
      "source": [
        "nodo = qml.QNode(circuito, dispositivo)"
      ],
      "metadata": {
        "id": "rIaUuIYKLtlt"
      },
      "execution_count": null,
      "outputs": []
    },
    {
      "cell_type": "code",
      "source": [
        "nodo(np.pi/4,0)"
      ],
      "metadata": {
        "colab": {
          "base_uri": "https://localhost:8080/"
        },
        "id": "ExWcFsPaPnRu",
        "outputId": "bb19209f-a46a-4cf0-8c75-a9dc48e428a4"
      },
      "execution_count": null,
      "outputs": [
        {
          "output_type": "execute_result",
          "data": {
            "text/plain": [
              "array([0.65328148-0.27059805j, 0.65328148+0.27059805j])"
            ]
          },
          "metadata": {},
          "execution_count": 29
        }
      ]
    },
    {
      "cell_type": "markdown",
      "source": [
        "## me da el estado"
      ],
      "metadata": {
        "id": "zTutv1gMMPFT"
      }
    },
    {
      "cell_type": "markdown",
      "source": [
        "=========================="
      ],
      "metadata": {
        "id": "2M7UXWq4SPbl"
      }
    },
    {
      "cell_type": "code",
      "source": [
        "!pip install pennylane\n",
        "!pip install pennylane-qiskit"
      ],
      "metadata": {
        "colab": {
          "base_uri": "https://localhost:8080/"
        },
        "id": "3gWexvLCSrsk",
        "outputId": "74f3a606-d435-49a3-ed9e-88161466e246"
      },
      "execution_count": null,
      "outputs": [
        {
          "output_type": "stream",
          "name": "stdout",
          "text": [
            "Requirement already satisfied: pennylane in /usr/local/lib/python3.12/dist-packages (0.42.3)\n",
            "Requirement already satisfied: scipy in /usr/local/lib/python3.12/dist-packages (from pennylane) (1.16.2)\n",
            "Requirement already satisfied: networkx in /usr/local/lib/python3.12/dist-packages (from pennylane) (3.5)\n",
            "Requirement already satisfied: rustworkx>=0.14.0 in /usr/local/lib/python3.12/dist-packages (from pennylane) (0.17.1)\n",
            "Requirement already satisfied: autograd in /usr/local/lib/python3.12/dist-packages (from pennylane) (1.8.0)\n",
            "Requirement already satisfied: appdirs in /usr/local/lib/python3.12/dist-packages (from pennylane) (1.4.4)\n",
            "Requirement already satisfied: autoray<0.8,>=0.6.11 in /usr/local/lib/python3.12/dist-packages (from pennylane) (0.7.2)\n",
            "Requirement already satisfied: cachetools in /usr/local/lib/python3.12/dist-packages (from pennylane) (5.5.2)\n",
            "Requirement already satisfied: pennylane-lightning>=0.42 in /usr/local/lib/python3.12/dist-packages (from pennylane) (0.42.0)\n",
            "Requirement already satisfied: requests in /usr/local/lib/python3.12/dist-packages (from pennylane) (2.32.4)\n",
            "Requirement already satisfied: tomlkit in /usr/local/lib/python3.12/dist-packages (from pennylane) (0.13.3)\n",
            "Requirement already satisfied: typing_extensions in /usr/local/lib/python3.12/dist-packages (from pennylane) (4.15.0)\n",
            "Requirement already satisfied: packaging in /usr/local/lib/python3.12/dist-packages (from pennylane) (25.0)\n",
            "Requirement already satisfied: diastatic-malt in /usr/local/lib/python3.12/dist-packages (from pennylane) (2.15.2)\n",
            "Requirement already satisfied: numpy in /usr/local/lib/python3.12/dist-packages (from pennylane) (2.0.2)\n",
            "Requirement already satisfied: scipy-openblas32>=0.3.26 in /usr/local/lib/python3.12/dist-packages (from pennylane-lightning>=0.42->pennylane) (0.3.30.0.2)\n",
            "Requirement already satisfied: astunparse in /usr/local/lib/python3.12/dist-packages (from diastatic-malt->pennylane) (1.6.3)\n",
            "Requirement already satisfied: gast in /usr/local/lib/python3.12/dist-packages (from diastatic-malt->pennylane) (0.6.0)\n",
            "Requirement already satisfied: termcolor in /usr/local/lib/python3.12/dist-packages (from diastatic-malt->pennylane) (3.1.0)\n",
            "Requirement already satisfied: charset_normalizer<4,>=2 in /usr/local/lib/python3.12/dist-packages (from requests->pennylane) (3.4.3)\n",
            "Requirement already satisfied: idna<4,>=2.5 in /usr/local/lib/python3.12/dist-packages (from requests->pennylane) (3.10)\n",
            "Requirement already satisfied: urllib3<3,>=1.21.1 in /usr/local/lib/python3.12/dist-packages (from requests->pennylane) (2.5.0)\n",
            "Requirement already satisfied: certifi>=2017.4.17 in /usr/local/lib/python3.12/dist-packages (from requests->pennylane) (2025.8.3)\n",
            "Requirement already satisfied: wheel<1.0,>=0.23.0 in /usr/local/lib/python3.12/dist-packages (from astunparse->diastatic-malt->pennylane) (0.45.1)\n",
            "Requirement already satisfied: six<2.0,>=1.6.1 in /usr/local/lib/python3.12/dist-packages (from astunparse->diastatic-malt->pennylane) (1.17.0)\n",
            "Collecting pennylane-qiskit\n",
            "  Downloading pennylane_qiskit-0.42.0-py3-none-any.whl.metadata (6.6 kB)\n",
            "Collecting qiskit<1.3,>=0.32 (from pennylane-qiskit)\n",
            "  Downloading qiskit-1.2.4-cp38-abi3-manylinux_2_17_x86_64.manylinux2014_x86_64.whl.metadata (12 kB)\n",
            "Collecting qiskit-aer<0.16.1 (from pennylane-qiskit)\n",
            "  Downloading qiskit_aer-0.16.0-cp312-cp312-manylinux_2_17_x86_64.manylinux2014_x86_64.whl.metadata (8.2 kB)\n",
            "Collecting qiskit-ibm-runtime<=0.29 (from pennylane-qiskit)\n",
            "  Downloading qiskit_ibm_runtime-0.29.0-py3-none-any.whl.metadata (19 kB)\n",
            "Requirement already satisfied: pennylane>=0.42 in /usr/local/lib/python3.12/dist-packages (from pennylane-qiskit) (0.42.3)\n",
            "Requirement already satisfied: numpy in /usr/local/lib/python3.12/dist-packages (from pennylane-qiskit) (2.0.2)\n",
            "Collecting sympy<1.13 (from pennylane-qiskit)\n",
            "  Downloading sympy-1.12.1-py3-none-any.whl.metadata (12 kB)\n",
            "Requirement already satisfied: networkx>=2.2 in /usr/local/lib/python3.12/dist-packages (from pennylane-qiskit) (3.5)\n",
            "Requirement already satisfied: scipy in /usr/local/lib/python3.12/dist-packages (from pennylane>=0.42->pennylane-qiskit) (1.16.2)\n",
            "Requirement already satisfied: rustworkx>=0.14.0 in /usr/local/lib/python3.12/dist-packages (from pennylane>=0.42->pennylane-qiskit) (0.17.1)\n",
            "Requirement already satisfied: autograd in /usr/local/lib/python3.12/dist-packages (from pennylane>=0.42->pennylane-qiskit) (1.8.0)\n",
            "Requirement already satisfied: appdirs in /usr/local/lib/python3.12/dist-packages (from pennylane>=0.42->pennylane-qiskit) (1.4.4)\n",
            "Requirement already satisfied: autoray<0.8,>=0.6.11 in /usr/local/lib/python3.12/dist-packages (from pennylane>=0.42->pennylane-qiskit) (0.7.2)\n",
            "Requirement already satisfied: cachetools in /usr/local/lib/python3.12/dist-packages (from pennylane>=0.42->pennylane-qiskit) (5.5.2)\n",
            "Requirement already satisfied: pennylane-lightning>=0.42 in /usr/local/lib/python3.12/dist-packages (from pennylane>=0.42->pennylane-qiskit) (0.42.0)\n",
            "Requirement already satisfied: requests in /usr/local/lib/python3.12/dist-packages (from pennylane>=0.42->pennylane-qiskit) (2.32.4)\n",
            "Requirement already satisfied: tomlkit in /usr/local/lib/python3.12/dist-packages (from pennylane>=0.42->pennylane-qiskit) (0.13.3)\n",
            "Requirement already satisfied: typing_extensions in /usr/local/lib/python3.12/dist-packages (from pennylane>=0.42->pennylane-qiskit) (4.15.0)\n",
            "Requirement already satisfied: packaging in /usr/local/lib/python3.12/dist-packages (from pennylane>=0.42->pennylane-qiskit) (25.0)\n",
            "Requirement already satisfied: diastatic-malt in /usr/local/lib/python3.12/dist-packages (from pennylane>=0.42->pennylane-qiskit) (2.15.2)\n",
            "Requirement already satisfied: dill>=0.3 in /usr/local/lib/python3.12/dist-packages (from qiskit<1.3,>=0.32->pennylane-qiskit) (0.3.8)\n",
            "Requirement already satisfied: python-dateutil>=2.8.0 in /usr/local/lib/python3.12/dist-packages (from qiskit<1.3,>=0.32->pennylane-qiskit) (2.9.0.post0)\n",
            "Collecting stevedore>=3.0.0 (from qiskit<1.3,>=0.32->pennylane-qiskit)\n",
            "  Downloading stevedore-5.5.0-py3-none-any.whl.metadata (2.2 kB)\n",
            "Collecting symengine<0.14,>=0.11 (from qiskit<1.3,>=0.32->pennylane-qiskit)\n",
            "  Downloading symengine-0.13.0-cp312-cp312-manylinux_2_17_x86_64.manylinux2014_x86_64.whl.metadata (1.2 kB)\n",
            "Requirement already satisfied: psutil>=5 in /usr/local/lib/python3.12/dist-packages (from qiskit-aer<0.16.1->pennylane-qiskit) (5.9.5)\n",
            "Collecting requests-ntlm>=1.1.0 (from qiskit-ibm-runtime<=0.29->pennylane-qiskit)\n",
            "  Downloading requests_ntlm-1.3.0-py3-none-any.whl.metadata (2.4 kB)\n",
            "Requirement already satisfied: urllib3>=1.21.1 in /usr/local/lib/python3.12/dist-packages (from qiskit-ibm-runtime<=0.29->pennylane-qiskit) (2.5.0)\n",
            "Requirement already satisfied: websocket-client>=1.5.1 in /usr/local/lib/python3.12/dist-packages (from qiskit-ibm-runtime<=0.29->pennylane-qiskit) (1.8.0)\n",
            "Collecting ibm-platform-services>=0.22.6 (from qiskit-ibm-runtime<=0.29->pennylane-qiskit)\n",
            "  Downloading ibm_platform_services-0.68.3-py3-none-any.whl.metadata (9.0 kB)\n",
            "Requirement already satisfied: pydantic>=2.5.0 in /usr/local/lib/python3.12/dist-packages (from qiskit-ibm-runtime<=0.29->pennylane-qiskit) (2.11.9)\n",
            "Requirement already satisfied: mpmath<1.4.0,>=1.1.0 in /usr/local/lib/python3.12/dist-packages (from sympy<1.13->pennylane-qiskit) (1.3.0)\n",
            "Collecting ibm_cloud_sdk_core<4.0.0,>=3.24.2 (from ibm-platform-services>=0.22.6->qiskit-ibm-runtime<=0.29->pennylane-qiskit)\n",
            "  Downloading ibm_cloud_sdk_core-3.24.2-py3-none-any.whl.metadata (8.7 kB)\n",
            "Requirement already satisfied: scipy-openblas32>=0.3.26 in /usr/local/lib/python3.12/dist-packages (from pennylane-lightning>=0.42->pennylane>=0.42->pennylane-qiskit) (0.3.30.0.2)\n",
            "Requirement already satisfied: annotated-types>=0.6.0 in /usr/local/lib/python3.12/dist-packages (from pydantic>=2.5.0->qiskit-ibm-runtime<=0.29->pennylane-qiskit) (0.7.0)\n",
            "Requirement already satisfied: pydantic-core==2.33.2 in /usr/local/lib/python3.12/dist-packages (from pydantic>=2.5.0->qiskit-ibm-runtime<=0.29->pennylane-qiskit) (2.33.2)\n",
            "Requirement already satisfied: typing-inspection>=0.4.0 in /usr/local/lib/python3.12/dist-packages (from pydantic>=2.5.0->qiskit-ibm-runtime<=0.29->pennylane-qiskit) (0.4.1)\n",
            "Requirement already satisfied: six>=1.5 in /usr/local/lib/python3.12/dist-packages (from python-dateutil>=2.8.0->qiskit<1.3,>=0.32->pennylane-qiskit) (1.17.0)\n",
            "Requirement already satisfied: charset_normalizer<4,>=2 in /usr/local/lib/python3.12/dist-packages (from requests->pennylane>=0.42->pennylane-qiskit) (3.4.3)\n",
            "Requirement already satisfied: idna<4,>=2.5 in /usr/local/lib/python3.12/dist-packages (from requests->pennylane>=0.42->pennylane-qiskit) (3.10)\n",
            "Requirement already satisfied: certifi>=2017.4.17 in /usr/local/lib/python3.12/dist-packages (from requests->pennylane>=0.42->pennylane-qiskit) (2025.8.3)\n",
            "Requirement already satisfied: cryptography>=1.3 in /usr/local/lib/python3.12/dist-packages (from requests-ntlm>=1.1.0->qiskit-ibm-runtime<=0.29->pennylane-qiskit) (43.0.3)\n",
            "Collecting pyspnego>=0.4.0 (from requests-ntlm>=1.1.0->qiskit-ibm-runtime<=0.29->pennylane-qiskit)\n",
            "  Downloading pyspnego-0.12.0-py3-none-any.whl.metadata (4.1 kB)\n",
            "Requirement already satisfied: astunparse in /usr/local/lib/python3.12/dist-packages (from diastatic-malt->pennylane>=0.42->pennylane-qiskit) (1.6.3)\n",
            "Requirement already satisfied: gast in /usr/local/lib/python3.12/dist-packages (from diastatic-malt->pennylane>=0.42->pennylane-qiskit) (0.6.0)\n",
            "Requirement already satisfied: termcolor in /usr/local/lib/python3.12/dist-packages (from diastatic-malt->pennylane>=0.42->pennylane-qiskit) (3.1.0)\n",
            "Requirement already satisfied: cffi>=1.12 in /usr/local/lib/python3.12/dist-packages (from cryptography>=1.3->requests-ntlm>=1.1.0->qiskit-ibm-runtime<=0.29->pennylane-qiskit) (2.0.0)\n",
            "Requirement already satisfied: PyJWT<3.0.0,>=2.10.1 in /usr/local/lib/python3.12/dist-packages (from ibm_cloud_sdk_core<4.0.0,>=3.24.2->ibm-platform-services>=0.22.6->qiskit-ibm-runtime<=0.29->pennylane-qiskit) (2.10.1)\n",
            "Requirement already satisfied: wheel<1.0,>=0.23.0 in /usr/local/lib/python3.12/dist-packages (from astunparse->diastatic-malt->pennylane>=0.42->pennylane-qiskit) (0.45.1)\n",
            "Requirement already satisfied: pycparser in /usr/local/lib/python3.12/dist-packages (from cffi>=1.12->cryptography>=1.3->requests-ntlm>=1.1.0->qiskit-ibm-runtime<=0.29->pennylane-qiskit) (2.23)\n",
            "Downloading pennylane_qiskit-0.42.0-py3-none-any.whl (44 kB)\n",
            "\u001b[2K   \u001b[90m━━━━━━━━━━━━━━━━━━━━━━━━━━━━━━━━━━━━━━━━\u001b[0m \u001b[32m44.6/44.6 kB\u001b[0m \u001b[31m2.9 MB/s\u001b[0m eta \u001b[36m0:00:00\u001b[0m\n",
            "\u001b[?25hDownloading qiskit-1.2.4-cp38-abi3-manylinux_2_17_x86_64.manylinux2014_x86_64.whl (4.8 MB)\n",
            "\u001b[2K   \u001b[90m━━━━━━━━━━━━━━━━━━━━━━━━━━━━━━━━━━━━━━━━\u001b[0m \u001b[32m4.8/4.8 MB\u001b[0m \u001b[31m53.1 MB/s\u001b[0m eta \u001b[36m0:00:00\u001b[0m\n",
            "\u001b[?25hDownloading qiskit_aer-0.16.0-cp312-cp312-manylinux_2_17_x86_64.manylinux2014_x86_64.whl (12.4 MB)\n",
            "\u001b[2K   \u001b[90m━━━━━━━━━━━━━━━━━━━━━━━━━━━━━━━━━━━━━━━━\u001b[0m \u001b[32m12.4/12.4 MB\u001b[0m \u001b[31m69.5 MB/s\u001b[0m eta \u001b[36m0:00:00\u001b[0m\n",
            "\u001b[?25hDownloading qiskit_ibm_runtime-0.29.0-py3-none-any.whl (2.9 MB)\n",
            "\u001b[2K   \u001b[90m━━━━━━━━━━━━━━━━━━━━━━━━━━━━━━━━━━━━━━━━\u001b[0m \u001b[32m2.9/2.9 MB\u001b[0m \u001b[31m67.7 MB/s\u001b[0m eta \u001b[36m0:00:00\u001b[0m\n",
            "\u001b[?25hDownloading sympy-1.12.1-py3-none-any.whl (5.7 MB)\n",
            "\u001b[2K   \u001b[90m━━━━━━━━━━━━━━━━━━━━━━━━━━━━━━━━━━━━━━━━\u001b[0m \u001b[32m5.7/5.7 MB\u001b[0m \u001b[31m75.9 MB/s\u001b[0m eta \u001b[36m0:00:00\u001b[0m\n",
            "\u001b[?25hDownloading ibm_platform_services-0.68.3-py3-none-any.whl (366 kB)\n",
            "\u001b[2K   \u001b[90m━━━━━━━━━━━━━━━━━━━━━━━━━━━━━━━━━━━━━━━━\u001b[0m \u001b[32m366.7/366.7 kB\u001b[0m \u001b[31m22.6 MB/s\u001b[0m eta \u001b[36m0:00:00\u001b[0m\n",
            "\u001b[?25hDownloading requests_ntlm-1.3.0-py3-none-any.whl (6.6 kB)\n",
            "Downloading stevedore-5.5.0-py3-none-any.whl (49 kB)\n",
            "\u001b[2K   \u001b[90m━━━━━━━━━━━━━━━━━━━━━━━━━━━━━━━━━━━━━━━━\u001b[0m \u001b[32m49.5/49.5 kB\u001b[0m \u001b[31m2.7 MB/s\u001b[0m eta \u001b[36m0:00:00\u001b[0m\n",
            "\u001b[?25hDownloading symengine-0.13.0-cp312-cp312-manylinux_2_17_x86_64.manylinux2014_x86_64.whl (49.6 MB)\n",
            "\u001b[2K   \u001b[90m━━━━━━━━━━━━━━━━━━━━━━━━━━━━━━━━━━━━━━━━\u001b[0m \u001b[32m49.6/49.6 MB\u001b[0m \u001b[31m17.1 MB/s\u001b[0m eta \u001b[36m0:00:00\u001b[0m\n",
            "\u001b[?25hDownloading ibm_cloud_sdk_core-3.24.2-py3-none-any.whl (75 kB)\n",
            "\u001b[2K   \u001b[90m━━━━━━━━━━━━━━━━━━━━━━━━━━━━━━━━━━━━━━━━\u001b[0m \u001b[32m75.8/75.8 kB\u001b[0m \u001b[31m5.4 MB/s\u001b[0m eta \u001b[36m0:00:00\u001b[0m\n",
            "\u001b[?25hDownloading pyspnego-0.12.0-py3-none-any.whl (130 kB)\n",
            "\u001b[2K   \u001b[90m━━━━━━━━━━━━━━━━━━━━━━━━━━━━━━━━━━━━━━━━\u001b[0m \u001b[32m130.2/130.2 kB\u001b[0m \u001b[31m11.0 MB/s\u001b[0m eta \u001b[36m0:00:00\u001b[0m\n",
            "\u001b[?25hInstalling collected packages: sympy, symengine, stevedore, qiskit, ibm_cloud_sdk_core, qiskit-aer, pyspnego, ibm-platform-services, requests-ntlm, qiskit-ibm-runtime, pennylane-qiskit\n",
            "  Attempting uninstall: sympy\n",
            "    Found existing installation: sympy 1.13.3\n",
            "    Uninstalling sympy-1.13.3:\n",
            "      Successfully uninstalled sympy-1.13.3\n",
            "\u001b[31mERROR: pip's dependency resolver does not currently take into account all the packages that are installed. This behaviour is the source of the following dependency conflicts.\n",
            "torch 2.8.0+cu126 requires sympy>=1.13.3, but you have sympy 1.12.1 which is incompatible.\u001b[0m\u001b[31m\n",
            "\u001b[0mSuccessfully installed ibm-platform-services-0.68.3 ibm_cloud_sdk_core-3.24.2 pennylane-qiskit-0.42.0 pyspnego-0.12.0 qiskit-1.2.4 qiskit-aer-0.16.0 qiskit-ibm-runtime-0.29.0 requests-ntlm-1.3.0 stevedore-5.5.0 symengine-0.13.0 sympy-1.12.1\n"
          ]
        }
      ]
    },
    {
      "cell_type": "markdown",
      "source": [
        "## estado de bell"
      ],
      "metadata": {
        "id": "FlZ5An0FSzRx"
      }
    },
    {
      "cell_type": "code",
      "source": [
        "import pennylane as qml\n",
        "from pennylane import numpy as np\n",
        "\n",
        "# 1. Definir el dispositivo (simulador)\n",
        "# Usamos un simulador de 2 qubits para el estado de Bell.\n",
        "dev = qml.device(\"default.qubit\", wires=2)\n",
        "\n",
        "# 2. Construir el circuito cuántico\n",
        "@qml.qnode(dev)\n",
        "def bell_state_circuit():\n",
        "    \"\"\"\n",
        "    Circuito cuántico para generar un estado de Bell.\n",
        "    1. Aplicar una compuerta Hadamard (H) al primer qubit.\n",
        "    2. Aplicar una compuerta CNOT (controlada-NOT) con el primer qubit\n",
        "       como control y el segundo como objetivo.\n",
        "    \"\"\"\n",
        "    # Paso 1: Hadamard en el primer qubit\n",
        "    qml.Hadamard(wires=0)\n",
        "\n",
        "    # Paso 2: CNOT\n",
        "    # La compuerta CNOT entrelaza los dos qubits.\n",
        "    qml.CNOT(wires=[0, 1])\n",
        "\n",
        "    # Devolver las probabilidades de los estados base\n",
        "    return qml.probs(wires=[0, 1])\n",
        "\n",
        "# 3. Ejecutar y visualizar el circuito\n",
        "# Dibuja el circuito para una mejor comprensión visual.\n",
        "fig, ax = qml.draw_mpl(bell_state_circuit)()\n",
        "fig.show()\n",
        "print(qml.draw(bell_state_circuit)())\n",
        "\n",
        "# 4. Obtener las probabilidades de medición\n",
        "# Las probabilidades deberían ser 0.5 para |00> y 0.5 para |11>.\n",
        "probs = bell_state_circuit()\n",
        "print(f\"Probabilidades de medición: {probs}\")\n",
        "print(f\"La probabilidad de obtener el estado |00> es {probs[0]:.2f}\")\n",
        "print(f\"La probabilidad de obtener el estado |11> es {probs[3]:.2f}\")"
      ],
      "metadata": {
        "colab": {
          "base_uri": "https://localhost:8080/",
          "height": 424
        },
        "id": "q3hAVmXPSyOV",
        "outputId": "71afaef1-cff4-424d-e8c8-c41bcffba155"
      },
      "execution_count": null,
      "outputs": [
        {
          "output_type": "stream",
          "name": "stdout",
          "text": [
            "0: ──H─╭●─┤ ╭Probs\n",
            "1: ────╰X─┤ ╰Probs\n",
            "Probabilidades de medición: [0.5 0.  0.  0.5]\n",
            "La probabilidad de obtener el estado |00> es 0.50\n",
            "La probabilidad de obtener el estado |11> es 0.50\n"
          ]
        },
        {
          "output_type": "display_data",
          "data": {
            "text/plain": [
              "<Figure size 500x300 with 1 Axes>"
            ],
            "image/png": "[encoded data removed]"
          },
          "metadata": {}
        }
      ]
    },
    {
      "cell_type": "markdown",
      "source": [
        "Explicación del Código\n",
        "qml.device: Selecciona el \"dispositivo\" o el simulador que ejecutará el circuito. default.qubit es el simulador integrado de PennyLane.\n",
        "\n",
        "@qml.qnode: Es un decorador que convierte tu función de Python en un nodo cuántico ejecutable.\n",
        "\n",
        "qml.Hadamard(wires=0): Pone el primer qubit en una superposición de ∣0⟩ y ∣1⟩.\n",
        "\n",
        "qml.CNOT(wires=[0, 1]): Esta compuerta entrelaza los dos qubits. El primer qubit (cable 0) actúa como control, y el segundo (cable 1) se invierte (NOT) si el control está en el estado ∣1⟩.\n",
        "\n",
        "qml.probs(wires=[0, 1]): Mide las probabilidades de encontrar los qubits en cada uno de los cuatro estados base posibles: ∣00⟩, ∣01⟩, ∣10⟩ y ∣11⟩. Para un estado de Bell, las probabilidades para ∣01⟩ y ∣10⟩ deben ser cero.\n",
        "\n",
        "qml.draw_mpl: Dibuja una representación visual del circuito.\n",
        "\n",
        "Cuando ejecutes este código en Colab, verás un diagrama del circuito y una salida que muestra las probabilidades, confirmando que has generado el estado entrelazado correctamente."
      ],
      "metadata": {
        "id": "Secik-DhTGdm"
      }
    },
    {
      "cell_type": "code",
      "source": [
        "@qml.qnode(dispositivo)\n",
        "def bell_state_circuit():\n",
        "    qml.Hadamard(0)\n",
        "    qml.CNOT(wires=[0, 1])\n",
        "    return qml.probs()"
      ],
      "metadata": {
        "id": "sAnlJGmfTR7G"
      },
      "execution_count": null,
      "outputs": []
    },
    {
      "cell_type": "code",
      "source": [
        "probabilidades_bell()"
      ],
      "metadata": {
        "colab": {
          "base_uri": "https://localhost:8080/",
          "height": 141
        },
        "id": "gVhrdodkUJPk",
        "outputId": "549cf071-7a19-45cd-ab88-1b180f25d2bc"
      },
      "execution_count": null,
      "outputs": [
        {
          "output_type": "error",
          "ename": "NameError",
          "evalue": "name 'probabilidades_bell' is not defined",
          "traceback": [
            "\u001b[0;31m---------------------------------------------------------------------------\u001b[0m",
            "\u001b[0;31mNameError\u001b[0m                                 Traceback (most recent call last)",
            "\u001b[0;32m/tmp/ipython-input-1331531396.py\u001b[0m in \u001b[0;36m<cell line: 0>\u001b[0;34m()\u001b[0m\n\u001b[0;32m----> 1\u001b[0;31m \u001b[0mprobabilidades_bell\u001b[0m\u001b[0;34m(\u001b[0m\u001b[0;34m)\u001b[0m\u001b[0;34m\u001b[0m\u001b[0;34m\u001b[0m\u001b[0m\n\u001b[0m",
            "\u001b[0;31mNameError\u001b[0m: name 'probabilidades_bell' is not defined"
          ]
        }
      ]
    },
    {
      "cell_type": "code",
      "source": [
        "dispositivos_muestras = qml.device(\"default.qubit\", wires=2, shots=100)\n",
        "@qml.qnode(muestras_bell)\n",
        "def muestras_bell():\n",
        "    qml.Hadamard(0)\n",
        "    qml.CNOT(wires=[0, 1])\n",
        "    return qml.sample()\n",
        "\n",
        "muestras_bell(shots=1024)"
      ],
      "metadata": {
        "colab": {
          "base_uri": "https://localhost:8080/",
          "height": 211
        },
        "id": "ZxP3PUYBUTX3",
        "outputId": "d069b0f3-c1c3-4857-8704-8982d2586c37"
      },
      "execution_count": null,
      "outputs": [
        {
          "output_type": "error",
          "ename": "NameError",
          "evalue": "name 'muestras_bell' is not defined",
          "traceback": [
            "\u001b[0;31m---------------------------------------------------------------------------\u001b[0m",
            "\u001b[0;31mNameError\u001b[0m                                 Traceback (most recent call last)",
            "\u001b[0;32m/tmp/ipython-input-3276434049.py\u001b[0m in \u001b[0;36m<cell line: 0>\u001b[0;34m()\u001b[0m\n\u001b[1;32m      1\u001b[0m \u001b[0mdispositivos_muestras\u001b[0m \u001b[0;34m=\u001b[0m \u001b[0mqml\u001b[0m\u001b[0;34m.\u001b[0m\u001b[0mdevice\u001b[0m\u001b[0;34m(\u001b[0m\u001b[0;34m\"default.qubit\"\u001b[0m\u001b[0;34m,\u001b[0m \u001b[0mwires\u001b[0m\u001b[0;34m=\u001b[0m\u001b[0;36m2\u001b[0m\u001b[0;34m,\u001b[0m \u001b[0mshots\u001b[0m\u001b[0;34m=\u001b[0m\u001b[0;36m100\u001b[0m\u001b[0;34m)\u001b[0m\u001b[0;34m\u001b[0m\u001b[0;34m\u001b[0m\u001b[0m\n\u001b[0;32m----> 2\u001b[0;31m \u001b[0;34m@\u001b[0m\u001b[0mqml\u001b[0m\u001b[0;34m.\u001b[0m\u001b[0mqnode\u001b[0m\u001b[0;34m(\u001b[0m\u001b[0mmuestras_bell\u001b[0m\u001b[0;34m)\u001b[0m\u001b[0;34m\u001b[0m\u001b[0;34m\u001b[0m\u001b[0m\n\u001b[0m\u001b[1;32m      3\u001b[0m \u001b[0;32mdef\u001b[0m \u001b[0mmuestras_bell\u001b[0m\u001b[0;34m(\u001b[0m\u001b[0;34m)\u001b[0m\u001b[0;34m:\u001b[0m\u001b[0;34m\u001b[0m\u001b[0;34m\u001b[0m\u001b[0m\n\u001b[1;32m      4\u001b[0m     \u001b[0mqml\u001b[0m\u001b[0;34m.\u001b[0m\u001b[0mHadamard\u001b[0m\u001b[0;34m(\u001b[0m\u001b[0;36m0\u001b[0m\u001b[0;34m)\u001b[0m\u001b[0;34m\u001b[0m\u001b[0;34m\u001b[0m\u001b[0m\n\u001b[1;32m      5\u001b[0m     \u001b[0mqml\u001b[0m\u001b[0;34m.\u001b[0m\u001b[0mCNOT\u001b[0m\u001b[0;34m(\u001b[0m\u001b[0mwires\u001b[0m\u001b[0;34m=\u001b[0m\u001b[0;34m[\u001b[0m\u001b[0;36m0\u001b[0m\u001b[0;34m,\u001b[0m \u001b[0;36m1\u001b[0m\u001b[0;34m]\u001b[0m\u001b[0;34m)\u001b[0m\u001b[0;34m\u001b[0m\u001b[0;34m\u001b[0m\u001b[0m\n",
            "\u001b[0;31mNameError\u001b[0m: name 'muestras_bell' is not defined"
          ]
        }
      ]
    },
    {
      "cell_type": "markdown",
      "source": [
        "## definir un operador abstracto , pasarle una matriz,valor esperado de una medicion, que medicion queremos hacer,"
      ],
      "metadata": {
        "id": "PDclRDO6VIpf"
      }
    },
    {
      "cell_type": "code",
      "source": [
        "medida0= qml.Hermitian(np.array ([0,0],[0,1]), wires=0)"
      ],
      "metadata": {
        "colab": {
          "base_uri": "https://localhost:8080/",
          "height": 287
        },
        "id": "lemJ1Lh7VV9y",
        "outputId": "d35820c3-72b7-4baf-b7e3-0592e2f933bc"
      },
      "execution_count": null,
      "outputs": [
        {
          "output_type": "error",
          "ename": "TypeError",
          "evalue": "Field elements must be 2- or 3-tuples, got '0'",
          "traceback": [
            "\u001b[0;31m---------------------------------------------------------------------------\u001b[0m",
            "\u001b[0;31mTypeError\u001b[0m                                 Traceback (most recent call last)",
            "\u001b[0;32m/tmp/ipython-input-1847501033.py\u001b[0m in \u001b[0;36m<cell line: 0>\u001b[0;34m()\u001b[0m\n\u001b[0;32m----> 1\u001b[0;31m \u001b[0mmedida0\u001b[0m\u001b[0;34m=\u001b[0m \u001b[0mqml\u001b[0m\u001b[0;34m.\u001b[0m\u001b[0mHermitian\u001b[0m\u001b[0;34m(\u001b[0m\u001b[0mnp\u001b[0m\u001b[0;34m.\u001b[0m\u001b[0marray\u001b[0m \u001b[0;34m(\u001b[0m\u001b[0;34m[\u001b[0m\u001b[0;36m0\u001b[0m\u001b[0;34m,\u001b[0m\u001b[0;36m0\u001b[0m\u001b[0;34m]\u001b[0m\u001b[0;34m,\u001b[0m\u001b[0;34m[\u001b[0m\u001b[0;36m0\u001b[0m\u001b[0;34m,\u001b[0m\u001b[0;36m1\u001b[0m\u001b[0;34m]\u001b[0m\u001b[0;34m)\u001b[0m\u001b[0;34m,\u001b[0m \u001b[0mwires\u001b[0m\u001b[0;34m=\u001b[0m\u001b[0;36m0\u001b[0m\u001b[0;34m)\u001b[0m\u001b[0;34m\u001b[0m\u001b[0;34m\u001b[0m\u001b[0m\n\u001b[0m",
            "\u001b[0;32m/usr/local/lib/python3.12/dist-packages/pennylane/numpy/wrapper.py\u001b[0m in \u001b[0;36m_wrapped\u001b[0;34m(*args, **kwargs)\u001b[0m\n\u001b[1;32m    115\u001b[0m \u001b[0;34m\u001b[0m\u001b[0m\n\u001b[1;32m    116\u001b[0m         \u001b[0;31m# evaluate the original object\u001b[0m\u001b[0;34m\u001b[0m\u001b[0;34m\u001b[0m\u001b[0m\n\u001b[0;32m--> 117\u001b[0;31m         \u001b[0mres\u001b[0m \u001b[0;34m=\u001b[0m \u001b[0mobj\u001b[0m\u001b[0;34m(\u001b[0m\u001b[0;34m*\u001b[0m\u001b[0margs\u001b[0m\u001b[0;34m,\u001b[0m \u001b[0;34m**\u001b[0m\u001b[0mkwargs\u001b[0m\u001b[0;34m)\u001b[0m\u001b[0;34m\u001b[0m\u001b[0;34m\u001b[0m\u001b[0m\n\u001b[0m\u001b[1;32m    118\u001b[0m \u001b[0;34m\u001b[0m\u001b[0m\n\u001b[1;32m    119\u001b[0m         \u001b[0;32mif\u001b[0m \u001b[0misinstance\u001b[0m\u001b[0;34m(\u001b[0m\u001b[0mres\u001b[0m\u001b[0;34m,\u001b[0m \u001b[0m_np\u001b[0m\u001b[0;34m.\u001b[0m\u001b[0mndarray\u001b[0m\u001b[0;34m)\u001b[0m\u001b[0;34m:\u001b[0m\u001b[0;34m\u001b[0m\u001b[0;34m\u001b[0m\u001b[0m\n",
            "\u001b[0;32m/usr/local/lib/python3.12/dist-packages/autograd/numpy/numpy_wrapper.py\u001b[0m in \u001b[0;36marray\u001b[0;34m(A, *args, **kwargs)\u001b[0m\n\u001b[1;32m     71\u001b[0m     \u001b[0mt\u001b[0m \u001b[0;34m=\u001b[0m \u001b[0mbuiltins\u001b[0m\u001b[0;34m.\u001b[0m\u001b[0mtype\u001b[0m\u001b[0;34m(\u001b[0m\u001b[0mA\u001b[0m\u001b[0;34m)\u001b[0m\u001b[0;34m\u001b[0m\u001b[0;34m\u001b[0m\u001b[0m\n\u001b[1;32m     72\u001b[0m     \u001b[0;32mif\u001b[0m \u001b[0mt\u001b[0m \u001b[0;32min\u001b[0m \u001b[0;34m(\u001b[0m\u001b[0mlist\u001b[0m\u001b[0;34m,\u001b[0m \u001b[0mtuple\u001b[0m\u001b[0;34m)\u001b[0m\u001b[0;34m:\u001b[0m\u001b[0;34m\u001b[0m\u001b[0;34m\u001b[0m\u001b[0m\n\u001b[0;32m---> 73\u001b[0;31m         \u001b[0;32mreturn\u001b[0m \u001b[0marray_from_args\u001b[0m\u001b[0;34m(\u001b[0m\u001b[0margs\u001b[0m\u001b[0;34m,\u001b[0m \u001b[0mkwargs\u001b[0m\u001b[0;34m,\u001b[0m \u001b[0;34m*\u001b[0m\u001b[0mmap\u001b[0m\u001b[0;34m(\u001b[0m\u001b[0marray\u001b[0m\u001b[0;34m,\u001b[0m \u001b[0mA\u001b[0m\u001b[0;34m)\u001b[0m\u001b[0;34m)\u001b[0m\u001b[0;34m\u001b[0m\u001b[0;34m\u001b[0m\u001b[0m\n\u001b[0m\u001b[1;32m     74\u001b[0m     \u001b[0;32melse\u001b[0m\u001b[0;34m:\u001b[0m\u001b[0;34m\u001b[0m\u001b[0;34m\u001b[0m\u001b[0m\n\u001b[1;32m     75\u001b[0m         \u001b[0;32mreturn\u001b[0m \u001b[0m_array_from_scalar_or_array\u001b[0m\u001b[0;34m(\u001b[0m\u001b[0margs\u001b[0m\u001b[0;34m,\u001b[0m \u001b[0mkwargs\u001b[0m\u001b[0;34m,\u001b[0m \u001b[0mA\u001b[0m\u001b[0;34m)\u001b[0m\u001b[0;34m\u001b[0m\u001b[0;34m\u001b[0m\u001b[0m\n",
            "\u001b[0;32m/usr/local/lib/python3.12/dist-packages/autograd/tracer.py\u001b[0m in \u001b[0;36mf_wrapped\u001b[0;34m(*args, **kwargs)\u001b[0m\n\u001b[1;32m     52\u001b[0m             \u001b[0;32mreturn\u001b[0m \u001b[0mnew_box\u001b[0m\u001b[0;34m(\u001b[0m\u001b[0mans\u001b[0m\u001b[0;34m,\u001b[0m \u001b[0mtrace\u001b[0m\u001b[0;34m,\u001b[0m \u001b[0mnode\u001b[0m\u001b[0;34m)\u001b[0m\u001b[0;34m\u001b[0m\u001b[0;34m\u001b[0m\u001b[0m\n\u001b[1;32m     53\u001b[0m         \u001b[0;32melse\u001b[0m\u001b[0;34m:\u001b[0m\u001b[0;34m\u001b[0m\u001b[0;34m\u001b[0m\u001b[0m\n\u001b[0;32m---> 54\u001b[0;31m             \u001b[0;32mreturn\u001b[0m \u001b[0mf_raw\u001b[0m\u001b[0;34m(\u001b[0m\u001b[0;34m*\u001b[0m\u001b[0margs\u001b[0m\u001b[0;34m,\u001b[0m \u001b[0;34m**\u001b[0m\u001b[0mkwargs\u001b[0m\u001b[0;34m)\u001b[0m\u001b[0;34m\u001b[0m\u001b[0;34m\u001b[0m\u001b[0m\n\u001b[0m\u001b[1;32m     55\u001b[0m \u001b[0;34m\u001b[0m\u001b[0m\n\u001b[1;32m     56\u001b[0m     \u001b[0mf_wrapped\u001b[0m\u001b[0;34m.\u001b[0m\u001b[0mfun\u001b[0m \u001b[0;34m=\u001b[0m \u001b[0mf_raw\u001b[0m\u001b[0;34m\u001b[0m\u001b[0;34m\u001b[0m\u001b[0m\n",
            "\u001b[0;32m/usr/local/lib/python3.12/dist-packages/autograd/numpy/numpy_wrapper.py\u001b[0m in \u001b[0;36marray_from_args\u001b[0;34m(array_args, array_kwargs, *args)\u001b[0m\n\u001b[1;32m     92\u001b[0m \u001b[0;34m@\u001b[0m\u001b[0mprimitive\u001b[0m\u001b[0;34m\u001b[0m\u001b[0;34m\u001b[0m\u001b[0m\n\u001b[1;32m     93\u001b[0m \u001b[0;32mdef\u001b[0m \u001b[0marray_from_args\u001b[0m\u001b[0;34m(\u001b[0m\u001b[0marray_args\u001b[0m\u001b[0;34m,\u001b[0m \u001b[0marray_kwargs\u001b[0m\u001b[0;34m,\u001b[0m \u001b[0;34m*\u001b[0m\u001b[0margs\u001b[0m\u001b[0;34m)\u001b[0m\u001b[0;34m:\u001b[0m\u001b[0;34m\u001b[0m\u001b[0;34m\u001b[0m\u001b[0m\n\u001b[0;32m---> 94\u001b[0;31m     \u001b[0;32mreturn\u001b[0m \u001b[0m_np\u001b[0m\u001b[0;34m.\u001b[0m\u001b[0marray\u001b[0m\u001b[0;34m(\u001b[0m\u001b[0margs\u001b[0m\u001b[0;34m,\u001b[0m \u001b[0;34m*\u001b[0m\u001b[0marray_args\u001b[0m\u001b[0;34m,\u001b[0m \u001b[0;34m**\u001b[0m\u001b[0marray_kwargs\u001b[0m\u001b[0;34m)\u001b[0m\u001b[0;34m\u001b[0m\u001b[0;34m\u001b[0m\u001b[0m\n\u001b[0m\u001b[1;32m     95\u001b[0m \u001b[0;34m\u001b[0m\u001b[0m\n\u001b[1;32m     96\u001b[0m \u001b[0;34m\u001b[0m\u001b[0m\n",
            "\u001b[0;31mTypeError\u001b[0m: Field elements must be 2- or 3-tuples, got '0'"
          ]
        }
      ]
    },
    {
      "cell_type": "code",
      "source": [
        "dispositivos_muestras = qml.device(\"default.qubit\", wires=2, shots=100)\n",
        "@qml.qnode(muestras_bell)\n",
        "def muestras_bell():\n",
        "    qml.Hadamard(0)\n",
        "    qml.CNOT(wires=[0, 1])\n",
        "    return qml.sample\n",
        "valor_esperado_bell()"
      ],
      "metadata": {
        "id": "OFK7XpHWWBOp"
      },
      "execution_count": null,
      "outputs": []
    },
    {
      "cell_type": "markdown",
      "source": [
        "## resultados empiricos,resultados esperados"
      ],
      "metadata": {
        "id": "1OQN9kVzWFam"
      }
    },
    {
      "cell_type": "markdown",
      "source": [
        "## paar imprimir circuito en penylanne"
      ],
      "metadata": {
        "id": "QsmSj1ZNXIAa"
      }
    },
    {
      "cell_type": "code",
      "source": [
        "print(qml.draw(bell_state_circuit))"
      ],
      "metadata": {
        "colab": {
          "base_uri": "https://localhost:8080/"
        },
        "id": "-YvXkcY0XOmu",
        "outputId": "17867238-54c4-4f23-8a52-7a8cddfd8509"
      },
      "execution_count": null,
      "outputs": [
        {
          "output_type": "stream",
          "name": "stdout",
          "text": [
            "<function bell_state_circuit at 0x787ee73198a0>\n"
          ]
        }
      ]
    },
    {
      "cell_type": "markdown",
      "source": [
        "## ejercicio"
      ],
      "metadata": {
        "id": "RLCLS-s-Yqjk"
      }
    },
    {
      "cell_type": "code",
      "source": [
        "import pennylane as qml\n",
        "from pennylane import numpy as np\n",
        "\n",
        "# 1. Definir el dispositivo (simulador)\n",
        "# Creamos un simulador de 3 qubits, ya que el circuito tiene 3 cables (wires).\n",
        "dev = qml.device(\"default.qubit\", wires=3)\n",
        "\n",
        "# 2. Construir el circuito cuántico\n",
        "@qml.qnode(dev)\n",
        "def my_circuit(params):\n",
        "    \"\"\"\n",
        "    Implementa el circuito mostrado en la imagen.\n",
        "\n",
        "    Argumentos:\n",
        "        params (list[float]): Una lista de 3 parámetros de rotación, [theta_0, theta_1, theta_2].\n",
        "    \"\"\"\n",
        "    # Qubit 0\n",
        "    qml.RX(params[0], wires=0)\n",
        "\n",
        "    # Qubit 1\n",
        "    # La compuerta CNOT tiene el Qubit 0 como control y el Qubit 1 como objetivo.\n",
        "    qml.CNOT(wires=[0, 1])\n",
        "    qml.RX(params[1], wires=1)\n",
        "\n",
        "    # Qubit 2\n",
        "    # La compuerta CNOT tiene el Qubit 1 como control y el Qubit 2 como objetivo.\n",
        "    qml.CNOT(wires=[1, 2])\n",
        "    qml.RX(params[2], wires=2)\n",
        "\n",
        "    # Medir la probabilidad de todos los qubits\n",
        "    return qml.probs(wires=[0, 1, 2])\n",
        "\n",
        "# 3. Ejecutar el circuito con un conjunto de parámetros de ejemplo\n",
        "# Los parámetros deben ser números reales, como se indica en el problema.\n",
        "# Aquí usamos valores de ejemplo en radianes (pi/4, pi/2, etc.).\n",
        "my_params = [np.pi/4, np.pi/2, np.pi/3]\n",
        "\n",
        "# 4. Obtener las probabilidades de medición\n",
        "probabilities = my_circuit(my_params)\n",
        "\n",
        "# Imprimir el resultado\n",
        "print(\"Parámetros utilizados:\", my_params)\n",
        "print(\"Probabilidades de los estados de salida:\", probabilities)\n",
        "\n",
        "# Visualizar el circuito\n",
        "fig, ax = qml.draw_mpl(my_circuit, style='black_white')(my_params)\n",
        "fig.show()\n",
        "\n",
        "# También se puede dibujar en texto plano\n",
        "print(qml.draw(my_circuit)(my_params))"
      ],
      "metadata": {
        "colab": {
          "base_uri": "https://localhost:8080/",
          "height": 540
        },
        "id": "V_RS2AESYtKw",
        "outputId": "c64297f7-e3ba-461c-d382-f4517cc2714f"
      },
      "execution_count": null,
      "outputs": [
        {
          "output_type": "stream",
          "name": "stdout",
          "text": [
            "Parámetros utilizados: [0.7853981633974483, 1.5707963267948966, 1.0471975511965976]\n",
            "Probabilidades de los estados de salida: [0.32008252 0.10669417 0.10669417 0.32008252 0.05491748 0.01830583\n",
            " 0.01830583 0.05491748]\n",
            "0: ──RX(0.79)─╭●────────────────────────┤ ╭Probs\n",
            "1: ───────────╰X──RX(1.57)─╭●───────────┤ ├Probs\n",
            "2: ────────────────────────╰X──RX(1.05)─┤ ╰Probs\n"
          ]
        },
        {
          "output_type": "display_data",
          "data": {
            "text/plain": [
              "<Figure size 800x400 with 1 Axes>"
            ],
            "image/png": "[encoded data removed]"
          },
          "metadata": {}
        }
      ]
    },
    {
      "cell_type": "markdown",
      "source": [
        "\n",
        "\n",
        "Código PennyLane para el Circuito **texto en negrita**\n",
        "Este código define un circuito cuántico que toma una lista de n parámetros (en este caso, n=3) y aplica una secuencia de operaciones.\n",
        "\n",
        "Python\n",
        "\n",
        "import pennylane as qml\n",
        "from pennylane import numpy as np\n",
        "\n",
        "# 1. Definir el dispositivo (simulador)\n",
        "# Creamos un simulador de 3 qubits, ya que el circuito tiene 3 cables (wires).\n",
        "dev = qml.device(\"default.qubit\", wires=3)\n",
        "\n",
        "# 2. Construir el circuito cuántico\n",
        "@qml.qnode(dev)\n",
        "def my_circuit(params):\n",
        "    \"\"\"\n",
        "    Implementa el circuito mostrado en la imagen.\n",
        "\n",
        "    Argumentos:\n",
        "        params (list[float]): Una lista de 3 parámetros de rotación, [theta_0, theta_1, theta_2].\n",
        "    \"\"\"\n",
        "    # Qubit 0\n",
        "    qml.RX(params[0], wires=0)\n",
        "\n",
        "    # Qubit 1\n",
        "    # La compuerta CNOT tiene el Qubit 0 como control y el Qubit 1 como objetivo.\n",
        "    qml.CNOT(wires=[0, 1])\n",
        "    qml.RX(params[1], wires=1)\n",
        "\n",
        "    # Qubit 2\n",
        "    # La compuerta CNOT tiene el Qubit 1 como control y el Qubit 2 como objetivo.\n",
        "    qml.CNOT(wires=[1, 2])\n",
        "    qml.RX(params[2], wires=2)\n",
        "\n",
        "    # Medir la probabilidad de todos los qubits\n",
        "    return qml.probs(wires=[0, 1, 2])\n",
        "\n",
        "# 3. Ejecutar el circuito con un conjunto de parámetros de ejemplo\n",
        "# Los parámetros deben ser números reales, como se indica en el problema.\n",
        "# Aquí usamos valores de ejemplo en radianes (pi/4, pi/2, etc.).\n",
        "my_params = [np.pi/4, np.pi/2, np.pi/3]\n",
        "\n",
        "# 4. Obtener las probabilidades de medición\n",
        "probabilities = my_circuit(my_params)\n",
        "\n",
        "# Imprimir el resultado\n",
        "print(\"Parámetros utilizados:\", my_params)\n",
        "print(\"Probabilidades de los estados de salida:\", probabilities)\n",
        "\n",
        "# Visualizar el circuito\n",
        "fig, ax = qml.draw_mpl(my_circuit, style='black_white')(my_params)\n",
        "fig.show()\n",
        "\n",
        "# También se puede dibujar en texto plano\n",
        "print(qml.draw(my_circuit)(my_params))\n",
        "Explicación del Código\n",
        "qml.device(\"default.qubit\", wires=3): Inicializa el simulador cuántico con 3 qubits (ya que el circuito tiene 3 líneas).\n",
        "\n",
        "@qml.qnode: Este decorador es la parte central de PennyLane. Convierte la función de Python en un circuito cuántico ejecutable.\n",
        "\n",
        "qml.RX: Esta compuerta aplica una rotación alrededor del eje X a un qubit. El argumento wires especifica a qué qubit se le aplica.\n",
        "\n",
        "qml.CNOT: Esta es una compuerta controlada-NOT. El primer qubit en la lista de wires es el qubit de control, y el segundo es el qubit objetivo. Si el qubit de control está en el estado ∣1⟩, el qubit objetivo se invierte.\n",
        "\n",
        "qml.probs: Esta función de medición devuelve las probabilidades de encontrar el sistema cuántico en cada uno de los 8 estados posibles (2\n",
        "3\n",
        " =8) al final del circuito.\n",
        "\n",
        "qml.draw_mpl: Dibuja una representación visual del circuito, lo que te ayuda a verificar que el código corresponde al diagrama.\n",
        "\n",
        "Este código te permite ejecutar el circuito, visualizarlo y obtener las probabilidades de medición para cualquier conjunto de parámetros de rotación que le pases."
      ],
      "metadata": {
        "id": "5EFG6vQfYyS4"
      }
    },
    {
      "cell_type": "code",
      "source": [
        "def circuitos(parametros):\n",
        "  n = len(parametros)\n",
        "  i = 0\n",
        "  for p in parametros:\n",
        "     qml.RX(p, wires=i) # Corrected Rx to RX\n",
        "     qml.CNOT(wires=[i, i+1]) # CNOT takes a list of wires\n",
        "     i +=1\n",
        "  return qml.probs(wires = list(range(n+1))) # Corrected wires to wires and returned probabilities for all wires in the circuit"
      ],
      "metadata": {
        "id": "_RyeNQwHZZ6A"
      },
      "execution_count": null,
      "outputs": []
    },
    {
      "cell_type": "code",
      "source": [
        "dispositivo = qml.device(\"default.qubit\", 8)\n",
        "param = [2,5,1,4,7,0]\n",
        "nodo = qml.QNode(circuitos,dispositivo)\n",
        "nodo(param)\n"
      ],
      "metadata": {
        "colab": {
          "base_uri": "https://localhost:8080/"
        },
        "id": "dztmqoRpaoRu",
        "outputId": "28dea89a-98a3-42da-ffab-1ba1cfc4b314"
      },
      "execution_count": null,
      "outputs": [
        {
          "output_type": "execute_result",
          "data": {
            "text/plain": [
              "array([0.02191487, 0.        , 0.        , 0.        , 0.        ,\n",
              "       0.        , 0.        , 0.00307497, 0.01468114, 0.        ,\n",
              "       0.        , 0.        , 0.        , 0.        , 0.        ,\n",
              "       0.10463035, 0.03122655, 0.        , 0.        , 0.        ,\n",
              "       0.        , 0.        , 0.        , 0.00438154, 0.00091771,\n",
              "       0.        , 0.        , 0.        , 0.        , 0.        ,\n",
              "       0.        , 0.00654042, 0.00364983, 0.        , 0.        ,\n",
              "       0.        , 0.        , 0.        , 0.        , 0.00051212,\n",
              "       0.00244508, 0.        , 0.        , 0.        , 0.        ,\n",
              "       0.        , 0.        , 0.01742574, 0.05838816, 0.        ,\n",
              "       0.        , 0.        , 0.        , 0.        , 0.        ,\n",
              "       0.0081927 , 0.00171596, 0.        , 0.        , 0.        ,\n",
              "       0.        , 0.        , 0.        , 0.01222943, 0.0296627 ,\n",
              "       0.        , 0.        , 0.        , 0.        , 0.        ,\n",
              "       0.        , 0.0041621 , 0.01987155, 0.        , 0.        ,\n",
              "       0.        , 0.        , 0.        , 0.        , 0.14162159,\n",
              "       0.04226645, 0.        , 0.        , 0.        , 0.        ,\n",
              "       0.        , 0.        , 0.00593059, 0.00124217, 0.        ,\n",
              "       0.        , 0.        , 0.        , 0.        , 0.        ,\n",
              "       0.00885273, 0.0158639 , 0.        , 0.        , 0.        ,\n",
              "       0.        , 0.        , 0.        , 0.00222593, 0.0106275 ,\n",
              "       0.        , 0.        , 0.        , 0.        , 0.        ,\n",
              "       0.        , 0.07574059, 0.25378288, 0.        , 0.        ,\n",
              "       0.        , 0.        , 0.        , 0.        , 0.03560939,\n",
              "       0.0074584 , 0.        , 0.        , 0.        , 0.        ,\n",
              "       0.        , 0.        , 0.05315494])"
            ]
          },
          "metadata": {},
          "execution_count": 66
        }
      ]
    },
    {
      "cell_type": "markdown",
      "source": [
        "https://bloch.kherb.io/\n"
      ],
      "metadata": {
        "id": "m9YZLWkza_bt"
      }
    },
    {
      "cell_type": "code",
      "source": [
        "!pip install stim"
      ],
      "metadata": {
        "colab": {
          "base_uri": "https://localhost:8080/"
        },
        "id": "12SbO5isfS6u",
        "outputId": "aef27f52-e90c-46ed-8921-d893432d22c5"
      },
      "execution_count": null,
      "outputs": [
        {
          "output_type": "stream",
          "name": "stdout",
          "text": [
            "Collecting stim\n",
            "  Downloading stim-1.15.0-cp312-cp312-manylinux_2_17_x86_64.manylinux2014_x86_64.whl.metadata (4.4 kB)\n",
            "Requirement already satisfied: numpy in /usr/local/lib/python3.12/dist-packages (from stim) (2.0.2)\n",
            "Downloading stim-1.15.0-cp312-cp312-manylinux_2_17_x86_64.manylinux2014_x86_64.whl (5.0 MB)\n",
            "\u001b[2K   \u001b[90m━━━━━━━━━━━━━━━━━━━━━━━━━━━━━━━━━━━━━━━━\u001b[0m \u001b[32m5.0/5.0 MB\u001b[0m \u001b[31m58.7 MB/s\u001b[0m eta \u001b[36m0:00:00\u001b[0m\n",
            "\u001b[?25hInstalling collected packages: stim\n",
            "Successfully installed stim-1.15.0\n"
          ]
        }
      ]
    },
    {
      "cell_type": "code",
      "source": [],
      "metadata": {
        "id": "Px89ebcjfbnM"
      },
      "execution_count": null,
      "outputs": []
    }
  ]
}