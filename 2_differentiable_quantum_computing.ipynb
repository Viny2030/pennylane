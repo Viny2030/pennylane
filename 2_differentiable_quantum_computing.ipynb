{
  "cells": [
    {
      "cell_type": "markdown",
      "metadata": {
        "id": "view-in-github",
        "colab_type": "text"
      },
      "source": [
        "<a href=\"https://colab.research.google.com/github/Viny2030/pennylane/blob/master/2_differentiable_quantum_computing.ipynb\" target=\"_parent\"><img src=\"https://colab.research.google.com/assets/colab-badge.svg\" alt=\"Open In Colab\"/></a>"
      ]
    },
    {
      "cell_type": "code",
      "execution_count": 1,
      "metadata": {
        "id": "nTR6KaDYI86X"
      },
      "outputs": [],
      "source": [
        "%%capture\n",
        "\n",
        "# Comment this out if you don't want to install pennylane from this notebook\n",
        "!pip install pennylane\n",
        "\n",
        "# Comment this out if you don't want to install matplotlib from this notebook\n",
        "!pip install matplotlib"
      ]
    },
    {
      "cell_type": "markdown",
      "metadata": {
        "id": "ViJy_slwI86e"
      },
      "source": [
        "# Differentiable quantum computing with PennyLane\n",
        "\n",
        "In this tutorial we will:\n",
        "\n",
        "* learn step-by-step how quantum computations are implemented in PennyLane,\n",
        "* understand parameter-dependent quantum computations (\"variational circuits\"),\n",
        "* build our first quantum machine learning model, and\n",
        "* compute its gradient.\n",
        "\n",
        "We need the following imports:"
      ]
    },
    {
      "cell_type": "markdown",
      "source": [
        "Computación cuántica diferenciable con PennyLane\n",
        "En este tutorial: **texto en negrita**\n",
        "\n",
        "aprenderemos paso a paso cómo se implementan los cálculos cuánticos en PennyLane,\n",
        "entenderemos los cálculos cuánticos dependientes de parámetros (\"circuitos variacionales\"),\n",
        "construiremos nuestro primer modelo de aprendizaje automático cuántico y\n",
        "calcularemos su gradiente.\n",
        "Necesitamos las siguientes importaciones:"
      ],
      "metadata": {
        "id": "W9P0e41Omfdi"
      }
    },
    {
      "cell_type": "code",
      "execution_count": 2,
      "metadata": {
        "id": "gym_3cbziWfK"
      },
      "outputs": [],
      "source": [
        "import pennylane as qml\n",
        "from pennylane import numpy as np"
      ]
    },
    {
      "cell_type": "markdown",
      "metadata": {
        "id": "j0takToZI86f"
      },
      "source": [
        "## 1. Quantum nodes"
      ]
    },
    {
      "cell_type": "markdown",
      "metadata": {
        "id": "3u-3eEPchh3N"
      },
      "source": [
        "In PennyLane, a *quantum node* is a computational unit that involves the construction, evaluation, pre- and postprocessing of quantum computations.\n",
        "\n",
        "A quantum node consists of a *quantum function* that defines a circuit, as well as a *device* on which it is run.\n",
        "\n",
        "There is a growing [device ecosystem](https://pennylane.ai/plugins.html) which allows you to change only one line of code to dispatch your quantum computation to local simulators, remote simulators and remote hardware from different vendors.\n",
        "\n",
        "Here we will use the built-in `default.qubit` device."
      ]
    },
    {
      "cell_type": "markdown",
      "source": [
        "En PennyLane, un nodo cuántico es una unidad computacional que implica la construcción, evaluación, preprocesamiento y posprocesamiento de cálculos cuánticos.\n",
        "\n",
        "Un nodo cuántico consiste en una función cuántica que define un circuito, así como un dispositivo en el que se ejecuta.\n",
        "\n",
        "Existe un ecosistema de dispositivos en crecimiento que permite modificar una sola línea de código para enviar el cálculo cuántico a simuladores locales, simuladores remotos y hardware remoto de diferentes proveedores.\n",
        "\n",
        "Aquí utilizaremos el dispositivo integrado `default.qubit`."
      ],
      "metadata": {
        "id": "rZNWclBGmtPm"
      }
    },
    {
      "cell_type": "code",
      "execution_count": 3,
      "metadata": {
        "id": "WfIzfl6hI86f"
      },
      "outputs": [],
      "source": [
        "dev = qml.device('default.qubit', wires=2)"
      ]
    },
    {
      "cell_type": "markdown",
      "metadata": {
        "id": "St5346Wvkmi_"
      },
      "source": [
        "To combine the device with a quantum function to a quantum node we can use the `qml.qnode` decorator. The function can then be evaluated as if it was any other python function. Internally, it will construct a circuit and run it on the device."
      ]
    },
    {
      "cell_type": "markdown",
      "source": [
        "**Para combinar el dispositivo con una función cuántica en un nodo cuántico, podemos usar el decorador qml.qnode. La función puede evaluarse como cualquier otra función de Python. Internamente, construirá un circuito y lo ejecutará en el dispositivo.**"
      ],
      "metadata": {
        "id": "_7eEcvOWm1rE"
      }
    },
    {
      "cell_type": "code",
      "execution_count": 4,
      "metadata": {
        "id": "I7mt2qKlkmi_",
        "outputId": "f52ec7f1-74c8-4e9d-91fa-6d935595fd13",
        "colab": {
          "base_uri": "https://localhost:8080/"
        }
      },
      "outputs": [
        {
          "output_type": "execute_result",
          "data": {
            "text/plain": [
              "array([0.5, 0. , 0.5, 0. ])"
            ]
          },
          "metadata": {},
          "execution_count": 4
        }
      ],
      "source": [
        "@qml.qnode(dev)\n",
        "def circuit():\n",
        "    qml.Hadamard(wires=0)\n",
        "    return qml.probs(wires=[0, 1])\n",
        "\n",
        "circuit()"
      ]
    },
    {
      "cell_type": "markdown",
      "metadata": {
        "id": "uBIQfM9mkmjA"
      },
      "source": [
        "## 2. Building quantum circuits"
      ]
    },
    {
      "cell_type": "markdown",
      "metadata": {
        "id": "B7QxsiAdI86g"
      },
      "source": [
        "### The initial state\n",
        "\n",
        "<br />\n",
        "<img src=\"https://github.com/XanaduAI/pennylane-demo-cern/blob/main/figures/1.png?raw=1\" width=\"500\" height=\"100\">\n",
        "<br />\n",
        "\n",
        "The initial state has 100% probability to be measured in the \"0..0\" configuration. Let's see how we can verify this with PennyLane."
      ]
    },
    {
      "cell_type": "markdown",
      "source": [
        "**El estado inicial tiene un 100 % de probabilidad de medirse en la configuración \"0..0\". Veamos cómo podemos verificar esto con PennyLane.**"
      ],
      "metadata": {
        "id": "rIjfdJdBm86w"
      }
    },
    {
      "cell_type": "markdown",
      "metadata": {
        "id": "4vYHmef8I86h"
      },
      "source": [
        "The internal state vector that we use to mathematically keep track of probabilities is complex-valued. Since `default.qubit` is a simulator we can have a look at the state, for example by checking the device's `state` attribute."
      ]
    },
    {
      "cell_type": "markdown",
      "source": [
        "El vector de estado interno que usamos para el seguimiento matemático de las probabilidades tiene un valor complejo. Dado que default.qubit es un simulador, podemos observar el estado, por ejemplo, consultando el atributo de estado del dispositivo."
      ],
      "metadata": {
        "id": "pQgwRMqsnDTy"
      }
    },
    {
      "cell_type": "code",
      "execution_count": 7,
      "metadata": {
        "colab": {
          "base_uri": "https://localhost:8080/"
        },
        "id": "0uWBZqMsI86g",
        "outputId": "d1d71303-0823-4c32-f2b8-03a861fa275d"
      },
      "outputs": [
        {
          "output_type": "execute_result",
          "data": {
            "text/plain": [
              "array([1.+0.j, 0.+0.j, 0.+0.j, 0.+0.j])"
            ]
          },
          "metadata": {},
          "execution_count": 7
        }
      ],
      "source": [
        "@qml.qnode(dev)\n",
        "def circuit():\n",
        "    return qml.probs(wires=[0, 1])\n",
        "\n",
        "circuit()"
      ]
    },
    {
      "cell_type": "markdown",
      "metadata": {
        "id": "8T72-1F-I86i"
      },
      "source": [
        "### Unitary evolutions\n",
        "\n",
        "<br />\n",
        "<img src=\"https://github.com/XanaduAI/pennylane-demo-cern/blob/main/figures/2.png?raw=1\" width=\"500\">\n",
        "<br />\n",
        "\n",
        "Quantum circuits are represented by unitary matrices. We can evolve the initial state by an arbitrary unitrary matrix as follows:"
      ]
    },
    {
      "cell_type": "markdown",
      "source": [
        "Los circuitos cuánticos se representan mediante matrices unitarias. Podemos desarrollar el estado inicial mediante una matriz unitaria arbitraria de la siguiente manera:"
      ],
      "metadata": {
        "id": "JhFKZ5jEnQD3"
      }
    },
    {
      "cell_type": "code",
      "execution_count": 8,
      "metadata": {
        "colab": {
          "base_uri": "https://localhost:8080/"
        },
        "id": "pR2xQvESI86i",
        "outputId": "4b19065a-d07b-4ebc-fb8b-1543c19cf3d3"
      },
      "outputs": [
        {
          "output_type": "execute_result",
          "data": {
            "text/plain": [
              "tensor([0. , 0.5, 0.5, 0. ], requires_grad=True)"
            ]
          },
          "metadata": {},
          "execution_count": 8
        }
      ],
      "source": [
        "s = 1/np.sqrt(2)\n",
        "U = np.array([[0., -s, 0.,  s],\n",
        "              [ s, 0., -s, 0.],\n",
        "              [ s, 0.,  s, 0.],\n",
        "              [0., -s, 0., -s]])\n",
        "\n",
        "@qml.qnode(dev)\n",
        "def circuit():\n",
        "    qml.QubitUnitary(U, wires=[0, 1])\n",
        "    return qml.probs(wires=[0, 1])\n",
        "\n",
        "circuit()"
      ]
    },
    {
      "cell_type": "markdown",
      "metadata": {
        "id": "y1Lz95Lvi4nh"
      },
      "source": [
        "The internal quantum state changed."
      ]
    },
    {
      "cell_type": "code",
      "execution_count": 11,
      "metadata": {
        "colab": {
          "base_uri": "https://localhost:8080/"
        },
        "id": "WGRCAysbI86i",
        "outputId": "879c68e0-b5ec-47cc-d394-95f12ce4d23f"
      },
      "outputs": [
        {
          "output_type": "execute_result",
          "data": {
            "text/plain": [
              "state(wires=[])"
            ]
          },
          "metadata": {},
          "execution_count": 11
        }
      ],
      "source": [
        "qml.state()"
      ]
    },
    {
      "cell_type": "markdown",
      "metadata": {
        "id": "j5D8HN8nI86j"
      },
      "source": [
        "### Measurements sample outcomes from the distribution\n",
        "\n",
        "<br />\n",
        "<img src=\"https://github.com/XanaduAI/pennylane-demo-cern/blob/main/figures/3.png?raw=1\" width=\"500\">\n",
        "<br />\n",
        "\n",
        "The most common measurement takes samples $-1, 1$ from the \"Pauli-Z\" observable. The samples indicate if the qubit was measured in state $| 0 \\rangle$ or $| 1 \\rangle$."
      ]
    },
    {
      "cell_type": "markdown",
      "source": [
        "La medición más común toma muestras −1,1 del observable \"Pauli-Z\". Las muestras indican si el cúbit se midió en el estado |0⟩ o |1⟩."
      ],
      "metadata": {
        "id": "cxeWfyGJof3k"
      }
    },
    {
      "cell_type": "code",
      "execution_count": 13,
      "metadata": {
        "colab": {
          "base_uri": "https://localhost:8080/"
        },
        "id": "BFFaTmh6I86j",
        "outputId": "a1bc3669-9dd3-49a3-a782-6cc2fe66fafe"
      },
      "outputs": [
        {
          "output_type": "execute_result",
          "data": {
            "text/plain": [
              "(tensor(0., requires_grad=True), tensor(0., requires_grad=True))"
            ]
          },
          "metadata": {},
          "execution_count": 13
        }
      ],
      "source": [
        "@qml.qnode(dev)\n",
        "def circuit():\n",
        "    qml.QubitUnitary(U, wires=[0, 1])\n",
        "    return qml.sample(qml.PauliZ(wires=0)), qml.sample(qml.PauliZ(wires=1))\n",
        "\n",
        "circuit()"
      ]
    },
    {
      "cell_type": "markdown",
      "metadata": {
        "id": "SKNa1k2eixFC"
      },
      "source": [
        "The quantum state should be still the same as above."
      ]
    },
    {
      "cell_type": "markdown",
      "source": [
        "**El estado cuántico debería seguir siendo el mismo que el anterior.**"
      ],
      "metadata": {
        "id": "O7j8CUKHosHJ"
      }
    },
    {
      "cell_type": "code",
      "execution_count": 14,
      "metadata": {
        "colab": {
          "base_uri": "https://localhost:8080/",
          "height": 280
        },
        "id": "kOpi8-62I86j",
        "outputId": "44c176a6-cb4f-4450-eb9e-da66dd5ed6d0"
      },
      "outputs": [
        {
          "output_type": "error",
          "ename": "AttributeError",
          "evalue": "DefaultQubit has no attribute 'state'. You may be looking for a property or method present in the legacy device interface. Please consult the DefaultQubit documentation for an updated list of public properties and methods.",
          "traceback": [
            "\u001b[0;31m---------------------------------------------------------------------------\u001b[0m",
            "\u001b[0;31mAttributeError\u001b[0m                            Traceback (most recent call last)",
            "\u001b[0;32m/tmp/ipython-input-2314641891.py\u001b[0m in \u001b[0;36m<cell line: 0>\u001b[0;34m()\u001b[0m\n\u001b[0;32m----> 1\u001b[0;31m \u001b[0mdev\u001b[0m\u001b[0;34m.\u001b[0m\u001b[0mstate\u001b[0m\u001b[0;34m\u001b[0m\u001b[0;34m\u001b[0m\u001b[0m\n\u001b[0m",
            "\u001b[0;32m/usr/local/lib/python3.12/dist-packages/pennylane/devices/device_api.py\u001b[0m in \u001b[0;36m__getattr__\u001b[0;34m(self, key)\u001b[0m\n\u001b[1;32m    209\u001b[0m \u001b[0;34m\u001b[0m\u001b[0m\n\u001b[1;32m    210\u001b[0m     \u001b[0;32mdef\u001b[0m \u001b[0m__getattr__\u001b[0m\u001b[0;34m(\u001b[0m\u001b[0mself\u001b[0m\u001b[0;34m,\u001b[0m \u001b[0mkey\u001b[0m\u001b[0;34m)\u001b[0m\u001b[0;34m:\u001b[0m\u001b[0;34m\u001b[0m\u001b[0;34m\u001b[0m\u001b[0m\n\u001b[0;32m--> 211\u001b[0;31m         raise AttributeError(\n\u001b[0m\u001b[1;32m    212\u001b[0m             \u001b[0;34mf\"{type(self).__name__} has no attribute '{key}'.\"\u001b[0m\u001b[0;34m\u001b[0m\u001b[0;34m\u001b[0m\u001b[0m\n\u001b[1;32m    213\u001b[0m             \u001b[0;34m\" You may be looking for a property or method present in the legacy device interface.\"\u001b[0m\u001b[0;34m\u001b[0m\u001b[0;34m\u001b[0m\u001b[0m\n",
            "\u001b[0;31mAttributeError\u001b[0m: DefaultQubit has no attribute 'state'. You may be looking for a property or method present in the legacy device interface. Please consult the DefaultQubit documentation for an updated list of public properties and methods."
          ]
        }
      ],
      "source": [
        "dev.state"
      ]
    },
    {
      "cell_type": "markdown",
      "metadata": {
        "id": "BPSoH3ddI86k"
      },
      "source": [
        "### Computing expectation values\n",
        "\n",
        "<br />\n",
        "<img src=\"https://github.com/XanaduAI/pennylane-demo-cern/blob/main/figures/4.png?raw=1\" width=\"500\">\n",
        "<br />\n",
        "\n",
        "When we want outputs of computations to be deterministic, we often interpret the expected measurement outcome as the result. This value is estimated by taking lots of samples and averaging over them."
      ]
    },
    {
      "cell_type": "markdown",
      "source": [
        "Cuando queremos que los resultados de los cálculos sean deterministas, solemos interpretar el resultado esperado de la medición como el resultado. Este valor se estima tomando muchas muestras y promediándolas."
      ],
      "metadata": {
        "id": "9sOlKTTDo6x0"
      }
    },
    {
      "cell_type": "code",
      "execution_count": 16,
      "metadata": {
        "colab": {
          "base_uri": "https://localhost:8080/"
        },
        "id": "BTKPBpR3I86k",
        "outputId": "9ab3924f-e639-486b-c0fc-c92fa942e4c7"
      },
      "outputs": [
        {
          "output_type": "execute_result",
          "data": {
            "text/plain": [
              "(tensor(0., requires_grad=True), tensor(0., requires_grad=True))"
            ]
          },
          "metadata": {},
          "execution_count": 16
        }
      ],
      "source": [
        "@qml.qnode(dev)\n",
        "def circuit():\n",
        "    qml.QubitUnitary(U, wires=[0, 1])\n",
        "    return qml.expval(qml.PauliZ(wires=0)), qml.expval(qml.PauliZ(wires=1))\n",
        "\n",
        "circuit()"
      ]
    },
    {
      "cell_type": "markdown",
      "metadata": {
        "id": "TWenlG1AjJhu"
      },
      "source": [
        "Again, the quantum state should be the same as above."
      ]
    },
    {
      "cell_type": "code",
      "execution_count": null,
      "metadata": {
        "colab": {
          "base_uri": "https://localhost:8080/"
        },
        "id": "aSJl64R-I86k",
        "outputId": "444f812a-5c66-446e-dd23-bfd8c1e60569"
      },
      "outputs": [
        {
          "data": {
            "text/plain": [
              "tensor([0.        +0.j, 0.70710678+0.j, 0.70710678+0.j, 0.        +0.j], requires_grad=True)"
            ]
          },
          "execution_count": 12,
          "metadata": {},
          "output_type": "execute_result"
        }
      ],
      "source": [
        "dev.state"
      ]
    },
    {
      "cell_type": "markdown",
      "metadata": {
        "id": "KNiKBEjrI86l"
      },
      "source": [
        "### Quantum circuits are decomposed into gates\n",
        "\n",
        "<br />\n",
        "<img src=\"https://github.com/XanaduAI/pennylane-demo-cern/blob/main/figures/5.png?raw=1\" width=\"500\">\n",
        "<br />\n",
        "\n",
        "Quantum circuits rarely consist of one large unitary (which quickly becomes intractably large as the number of qubits grow). Instead, they are composed of *quantum gates*."
      ]
    },
    {
      "cell_type": "code",
      "execution_count": 17,
      "metadata": {
        "colab": {
          "base_uri": "https://localhost:8080/"
        },
        "id": "Eoie7lnlI86l",
        "outputId": "ff44cf20-b613-48df-8da9-d647b0ff4c99"
      },
      "outputs": [
        {
          "output_type": "execute_result",
          "data": {
            "text/plain": [
              "(np.float64(0.0), np.float64(-0.9999999999999998))"
            ]
          },
          "metadata": {},
          "execution_count": 17
        }
      ],
      "source": [
        "@qml.qnode(dev)\n",
        "def circuit():\n",
        "    qml.PauliX(wires=0)\n",
        "    qml.CNOT(wires=[0,1])\n",
        "    qml.Hadamard(wires=0)\n",
        "    qml.PauliZ(wires=1)\n",
        "    return qml.expval(qml.PauliZ(wires=0)), qml.expval(qml.PauliZ(wires=1))\n",
        "\n",
        "circuit()"
      ]
    },
    {
      "cell_type": "markdown",
      "metadata": {
        "id": "IxU2qPYcI86l"
      },
      "source": [
        "### Some gates depend on \"control\" parameters\n",
        "\n",
        "<br />\n",
        "<img src=\"https://github.com/XanaduAI/pennylane-demo-cern/blob/main/figures/6.png?raw=1\" width=\"500\">\n",
        "<br />\n",
        "\n",
        "To train circuits, there is a special subset of gates which is of particular interest: the Pauli rotation gates. These \"rotate\" a special representation of the quantum state around a specific axis. The gates depend on a scalar parameter which is the angle of the rotation."
      ]
    },
    {
      "cell_type": "markdown",
      "source": [
        "Para entrenar circuitos, existe un subconjunto especial de puertas de particular interés: las puertas de rotación de Pauli. Estas \"rotan\" una representación especial del estado cuántico alrededor de un eje específico. Las puertas dependen de un parámetro escalar: el ángulo de rotación."
      ],
      "metadata": {
        "id": "iHPVuuRQpMnn"
      }
    },
    {
      "cell_type": "code",
      "execution_count": 18,
      "metadata": {
        "id": "YwKk_sWmI86m",
        "outputId": "d592bbd1-dff7-43e5-aedf-520441459300",
        "colab": {
          "base_uri": "https://localhost:8080/"
        }
      },
      "outputs": [
        {
          "output_type": "execute_result",
          "data": {
            "text/plain": [
              "(np.float64(0.3623577544766737), np.float64(0.09693027486554612))"
            ]
          },
          "metadata": {},
          "execution_count": 18
        }
      ],
      "source": [
        "@qml.qnode(dev)\n",
        "def circuit(w1, w2):\n",
        "    qml.RX(w1, wires=0)\n",
        "    qml.CNOT(wires=[0,1])\n",
        "    qml.RY(w2, wires=1)\n",
        "    return qml.expval(qml.PauliZ(wires=0)), qml.expval(qml.PauliZ(wires=1))\n",
        "\n",
        "circuit(1.2, 1.3)"
      ]
    },
    {
      "cell_type": "markdown",
      "metadata": {
        "id": "Oi_0wM9rI86m"
      },
      "source": [
        "The names `w1`, `w2` are already suggestive that these can be used like the trainable parameters of a classical machine learning model. But we could also call the control parameters `x1`, `x2` and encode data features into quantum states."
      ]
    },
    {
      "cell_type": "markdown",
      "source": [
        "Los nombres w1 y w2 ya sugieren que pueden usarse como parámetros entrenables de un modelo clásico de aprendizaje automático. Sin embargo, también podríamos llamar a los parámetros de control x1 y x2 y codificar las características de los datos en estados cuánticos."
      ],
      "metadata": {
        "id": "s1ejDgWTpSHC"
      }
    },
    {
      "cell_type": "markdown",
      "metadata": {
        "id": "1fKFXs7OI86m"
      },
      "source": [
        "## 3. A full quantum machine learning model and its gradient"
      ]
    },
    {
      "cell_type": "markdown",
      "metadata": {
        "id": "QBEgX2RNI86n"
      },
      "source": [
        "Finally, we can use pre-coded routines or [templates](https://pennylane.readthedocs.io/en/stable/introduction/templates.html) to conveniently build full quantum machine learning model that include a data encoding part, and a trainable part.\n",
        "\n",
        "<br />\n",
        "<img src=\"https://github.com/XanaduAI/pennylane-demo-cern/blob/main/figures/7.png?raw=1\" width=\"500\">\n",
        "<br />\n",
        "\n",
        "Here, we will use the `AngleEmbedding` template to load the data, and the `BasicEntanglingLayers` as the trainable part of the circuit."
      ]
    },
    {
      "cell_type": "markdown",
      "source": [
        "Por último, podemos utilizar rutinas o plantillas precodificadas para construir cómodamente un modelo completo de aprendizaje automático cuántico que incluya una parte de codificación de datos y una parte entrenable.\n",
        "![image.png](data:image/png;base64,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)"
      ],
      "metadata": {
        "id": "NQwRkS0bpXgW"
      }
    },
    {
      "cell_type": "markdown",
      "source": [
        "Aquí, utilizaremos la plantilla AngleEmbedding para cargar los datos y BasicEntanglingLayers como la parte entrenable del circuito."
      ],
      "metadata": {
        "id": "DtAq_PsfpuM4"
      }
    },
    {
      "cell_type": "code",
      "execution_count": 19,
      "metadata": {
        "colab": {
          "base_uri": "https://localhost:8080/"
        },
        "id": "qH4f8vYFI86n",
        "outputId": "b0bbb1d9-12e1-4a1a-ae03-7f05bcc67410"
      },
      "outputs": [
        {
          "output_type": "execute_result",
          "data": {
            "text/plain": [
              "tensor(0.012023, requires_grad=True)"
            ]
          },
          "metadata": {},
          "execution_count": 19
        }
      ],
      "source": [
        "@qml.qnode(dev)\n",
        "def quantum_model(x, w):\n",
        "    qml.templates.AngleEmbedding(x, wires=[0, 1])\n",
        "    qml.templates.BasicEntanglerLayers(w, wires=[0, 1])\n",
        "    return qml.expval(qml.PauliZ(wires=0))\n",
        "\n",
        "\n",
        "x = np.array([0.1, 0.2], requires_grad=False)\n",
        "w = np.array([[-2.1, 1.2], [-1.4, -3.9], [0.5, 0.2]])\n",
        "\n",
        "quantum_model(x, w)"
      ]
    },
    {
      "cell_type": "markdown",
      "metadata": {
        "id": "I-TOEGNdsUNx"
      },
      "source": [
        "We can draw the circuit."
      ]
    },
    {
      "cell_type": "code",
      "execution_count": 21,
      "metadata": {
        "colab": {
          "base_uri": "https://localhost:8080/"
        },
        "id": "Ke03t-8ysP3V",
        "outputId": "933fc6c9-e15e-4431-cf1d-032fae3324b1"
      },
      "outputs": [
        {
          "output_type": "stream",
          "name": "stdout",
          "text": [
            "0: ─╭AngleEmbedding(M0)─╭BasicEntanglerLayers(M1)─┤  <Z>\n",
            "1: ─╰AngleEmbedding(M0)─╰BasicEntanglerLayers(M1)─┤     \n",
            "\n",
            "M0 = \n",
            "[0.1 0.2]\n",
            "M1 = \n",
            "[[-2.1  1.2]\n",
            " [-1.4 -3.9]\n",
            " [ 0.5  0.2]]\n"
          ]
        }
      ],
      "source": [
        "print(qml.draw(quantum_model)(x, w))"
      ]
    },
    {
      "cell_type": "markdown",
      "metadata": {
        "id": "BSyTK18DI86n"
      },
      "source": [
        "The best thing is that by using PennyLane, we can easily compute its gradient!"
      ]
    },
    {
      "cell_type": "markdown",
      "source": [
        "¡Lo mejor es que al usar PennyLane podemos calcular fácilmente su gradiente!"
      ],
      "metadata": {
        "id": "fgAgtssJqAFF"
      }
    },
    {
      "cell_type": "code",
      "execution_count": 22,
      "metadata": {
        "id": "TH2NCZFkI86n",
        "outputId": "d05c55cc-016d-42ff-d9df-cafb9f1ec665",
        "colab": {
          "base_uri": "https://localhost:8080/"
        }
      },
      "outputs": [
        {
          "output_type": "execute_result",
          "data": {
            "text/plain": [
              "array([[ 1.69541373e-01, -6.50521303e-17],\n",
              "       [ 6.97079563e-02,  8.67361738e-18],\n",
              "       [ 1.69541373e-01,  3.53449908e-17]])"
            ]
          },
          "metadata": {},
          "execution_count": 22
        }
      ],
      "source": [
        "gradient_fn = qml.grad(quantum_model)\n",
        "\n",
        "gradient_fn(x, w)"
      ]
    },
    {
      "cell_type": "markdown",
      "metadata": {
        "id": "aG3rOjcOI86o"
      },
      "source": [
        "This allows us to slot the quantum circuit into the machine learning example from the previous notebook."
      ]
    },
    {
      "cell_type": "markdown",
      "source": [
        "Esto nos permite insertar el circuito cuántico en el ejemplo de aprendizaje automático del cuaderno anterior."
      ],
      "metadata": {
        "id": "ynck_s1LqTDI"
      }
    },
    {
      "cell_type": "markdown",
      "metadata": {
        "id": "EzByfrW4I86o"
      },
      "source": [
        "#  TASKS\n",
        "\n",
        "1. Copy and paste the code from the previous notebook to here and replace the classical model by\n",
        "   the `quantum_model` function. This will allow you to train the model!"
      ]
    },
    {
      "cell_type": "markdown",
      "source": [
        "**TAREAS**\n",
        "Copia y pega aquí el código del cuaderno anterior y reemplaza el modelo clásico por la función quantum_model. ¡Esto te permitirá entrenar el modelo!"
      ],
      "metadata": {
        "id": "FkRABV32qaBb"
      }
    },
    {
      "cell_type": "markdown",
      "metadata": {
        "id": "u1CZoinKkmjI"
      },
      "source": [
        "2. Add a bias term to the quantum model.\n",
        "\n",
        "A potential solution of 1 & 2 together:"
      ]
    },
    {
      "cell_type": "markdown",
      "source": [
        "Añadir un término de sesgo al modelo cuántico.\n",
        "Una posible solución de 1 y 2 juntos:"
      ],
      "metadata": {
        "id": "-ITd_sjEqfn-"
      }
    },
    {
      "cell_type": "code",
      "execution_count": 23,
      "metadata": {
        "id": "VcLZ6GQnkmjI",
        "outputId": "12cebfeb-4cc5-4ed3-d3f2-aed8ddc48690",
        "colab": {
          "base_uri": "https://localhost:8080/"
        }
      },
      "outputs": [
        {
          "output_type": "stream",
          "name": "stdout",
          "text": [
            "1.8849316735960846\n",
            "1.7994290353261422\n",
            "1.713760627333761\n",
            "1.6297475998593294\n",
            "1.5490346618102533\n",
            "1.4729633996299936\n",
            "1.4024972209368827\n",
            "1.3382019331683566\n",
            "1.2802738404498952\n",
            "1.2286000998063868\n",
            "1.1828345298834284\n",
            "1.1424746678510642\n",
            "1.1069304425915563\n",
            "1.0755795166496755\n",
            "1.047808062816081\n"
          ]
        }
      ],
      "source": [
        "n_samples = 100\n",
        "X0 = np.array([[np.random.normal(loc=-1, scale=1),\n",
        "                np.random.normal(loc=1, scale=1)] for i in range(n_samples//2)])\n",
        "X1 = np.array([[np.random.normal(loc=1, scale=1),\n",
        "                np.random.normal(loc=-1, scale=1)] for i in range(n_samples//2)])\n",
        "\n",
        "X = np.concatenate([X0, X1], axis=0)\n",
        "Y = np.concatenate([-np.ones(50), np.ones(50)], axis=0)\n",
        "data = list(zip(X, Y))\n",
        "\n",
        "def model_with_bias(x, w, b):\n",
        "    return quantum_model(x, w) + b\n",
        "\n",
        "def loss(a, b):\n",
        "    return (a - b)**2\n",
        "\n",
        "def average_loss(w, b, data):\n",
        "    c = 0\n",
        "    for x, y in data:\n",
        "        prediction = model_with_bias(x, w, b)\n",
        "        c += loss(prediction, y)\n",
        "    return c/len(data)\n",
        "\n",
        "gradient_fn_w = qml.grad(average_loss, argnum=0)\n",
        "gradient_fn_b = qml.grad(average_loss, argnum=1)\n",
        "\n",
        "w_init = np.random.random(size=(3, 2))\n",
        "w = np.array(w_init)\n",
        "b = np.array(0.0) # start with zero bias\n",
        "\n",
        "for i in range(15):\n",
        "    w_new = w - 0.05*gradient_fn_w(w, b, data)\n",
        "    b_new = b - 0.05*gradient_fn_b(w, b, data)\n",
        "    print(average_loss(w_new, b_new, data))\n",
        "    w = w_new\n",
        "    b = b_new"
      ]
    },
    {
      "cell_type": "markdown",
      "metadata": {
        "id": "YoBuZtxEkmjJ"
      },
      "source": [
        "3. Replace the hand-coded optimisation step by a native [PennyLane optimiser](https://pennylane.readthedocs.io/en/stable/introduction/optimizers.html)."
      ]
    },
    {
      "cell_type": "markdown",
      "source": [
        "Reemplace el paso de optimización codificado manualmente por un optimizador nativo de PennyLane."
      ],
      "metadata": {
        "id": "fXoCFRtzqqB5"
      }
    },
    {
      "cell_type": "code",
      "execution_count": 24,
      "metadata": {
        "id": "bx_FPv08kmjJ",
        "outputId": "a29f1a25-5195-4112-d22d-222275a51d52",
        "colab": {
          "base_uri": "https://localhost:8080/"
        }
      },
      "outputs": [
        {
          "output_type": "stream",
          "name": "stdout",
          "text": [
            "1.047808062816081\n",
            "1.02303813532561\n",
            "1.0007439951104116\n",
            "0.9804600805408366\n",
            "0.961783125281123\n",
            "0.9443704884333883\n",
            "0.9279362614863084\n",
            "0.9122462536382987\n",
            "0.8971125766465261\n",
            "0.8823882625673243\n",
            "0.8679621447469321\n",
            "0.8537540991067171\n",
            "0.8397106627976454\n",
            "0.8258010058781525\n",
            "0.8120132165232465\n"
          ]
        }
      ],
      "source": [
        "opt = qml.GradientDescentOptimizer(0.05)\n",
        "for i in range(15):\n",
        "\n",
        "    ([w, b], cst) = opt.step_and_cost(lambda w_, b_: average_loss(w_, b_, data), w, b)\n",
        "    print(cst)"
      ]
    },
    {
      "cell_type": "markdown",
      "metadata": {
        "id": "NcDKiTR9kmjJ"
      },
      "source": [
        "4. Rewrite the entire example in PyTorch.\n",
        "\n",
        "   Tipp: You must set the qnode to the correct interface via `@qml.qnode(dev, interface='tf')`."
      ]
    },
    {
      "cell_type": "markdown",
      "source": [
        "Reescribe el ejemplo completo en PyTorch.\n",
        "\n",
        "Consejo: Debes configurar el nodo q con la interfaz correcta mediante @qml.qnode(dev, interface='tf')."
      ],
      "metadata": {
        "id": "R9eau3Spqyy0"
      }
    },
    {
      "cell_type": "code",
      "execution_count": 25,
      "metadata": {
        "id": "3tXR6ygNI86o",
        "outputId": "59887105-3e05-4907-c6cb-53148a4f7386",
        "colab": {
          "base_uri": "https://localhost:8080/"
        }
      },
      "outputs": [
        {
          "output_type": "stream",
          "name": "stdout",
          "text": [
            "tensor(2.3819, dtype=torch.float64, grad_fn=<DivBackward0>)\n",
            "tensor(2.2084, dtype=torch.float64, grad_fn=<DivBackward0>)\n",
            "tensor(2.0031, dtype=torch.float64, grad_fn=<DivBackward0>)\n",
            "tensor(1.7805, dtype=torch.float64, grad_fn=<DivBackward0>)\n",
            "tensor(1.5550, dtype=torch.float64, grad_fn=<DivBackward0>)\n",
            "tensor(1.3406, dtype=torch.float64, grad_fn=<DivBackward0>)\n",
            "tensor(1.1495, dtype=torch.float64, grad_fn=<DivBackward0>)\n",
            "tensor(0.9918, dtype=torch.float64, grad_fn=<DivBackward0>)\n",
            "tensor(0.8738, dtype=torch.float64, grad_fn=<DivBackward0>)\n",
            "tensor(0.7965, dtype=torch.float64, grad_fn=<DivBackward0>)\n",
            "tensor(0.7541, dtype=torch.float64, grad_fn=<DivBackward0>)\n",
            "tensor(0.7344, dtype=torch.float64, grad_fn=<DivBackward0>)\n",
            "tensor(0.7242, dtype=torch.float64, grad_fn=<DivBackward0>)\n",
            "tensor(0.7144, dtype=torch.float64, grad_fn=<DivBackward0>)\n",
            "tensor(0.7017, dtype=torch.float64, grad_fn=<DivBackward0>)\n"
          ]
        }
      ],
      "source": [
        "import torch\n",
        "\n",
        "data = [[torch.tensor(x), torch.tensor(y)] for x, y in data]\n",
        "\n",
        "\n",
        "@qml.qnode(dev, interface='torch')\n",
        "def quantum_model(x, w):\n",
        "    qml.templates.AngleEmbedding(x, wires=[0, 1])\n",
        "    qml.templates.BasicEntanglerLayers(w, wires=[0, 1])\n",
        "    return qml.expval(qml.PauliZ(wires=0))\n",
        "\n",
        "def average_loss(w, data):\n",
        "    c = 0\n",
        "    for x, y in data:\n",
        "        prediction = quantum_model(x, w)\n",
        "        c += loss(prediction, y)\n",
        "    return c/len(data)\n",
        "\n",
        "w_init = np.random.random(size=(3, 2))\n",
        "\n",
        "w = torch.tensor(w_init, requires_grad=True)\n",
        "\n",
        "opt = torch.optim.Adam([w], lr = 0.1)\n",
        "\n",
        "# One way of optimising is to use closures\n",
        "def closure():\n",
        "    opt.zero_grad()\n",
        "    loss = average_loss(w, data)\n",
        "    loss.backward()\n",
        "    return loss\n",
        "\n",
        "for i in range(15):\n",
        "    opt.step(closure)\n",
        "\n",
        "    print(average_loss(w, data))\n"
      ]
    }
  ],
  "metadata": {
    "colab": {
      "provenance": [],
      "include_colab_link": true
    },
    "kernelspec": {
      "display_name": "cern_tutorial",
      "language": "python",
      "name": "cern_tutorial"
    },
    "language_info": {
      "codemirror_mode": {
        "name": "ipython",
        "version": 3
      },
      "file_extension": ".py",
      "mimetype": "text/x-python",
      "name": "python",
      "nbconvert_exporter": "python",
      "pygments_lexer": "ipython3",
      "version": "3.8.5"
    }
  },
  "nbformat": 4,
  "nbformat_minor": 0
}